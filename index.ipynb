{
 "cells": [
  {
   "cell_type": "code",
   "execution_count": 2,
   "metadata": {
    "ExecuteTime": {
     "end_time": "2020-09-02T16:56:14.479955Z",
     "start_time": "2020-09-02T16:56:14.039454Z"
    }
   },
   "outputs": [],
   "source": [
    "# SQL Connection and Querying\n",
    "import sqlite3\n",
    "\n",
    "# API Connection\n",
    "import requests\n",
    "\n",
    "import pandas as pd"
   ]
  },
  {
   "cell_type": "markdown",
   "metadata": {},
   "source": [
    "![schema](schema.png)"
   ]
  },
  {
   "cell_type": "code",
   "execution_count": 1,
   "metadata": {
    "ExecuteTime": {
     "end_time": "2020-09-02T22:37:08.767407Z",
     "start_time": "2020-09-02T22:37:07.689012Z"
    }
   },
   "outputs": [],
   "source": [
    "conn = sqlite3.connect('data/stocks.db')\n",
    "stocks_2017 = pd.read_sql('''select open,\n",
    "                      date,\n",
    "                      name\n",
    "              FROM open\n",
    "              JOIN date\n",
    "              ON open.date_id = date.id\n",
    "              JOIN company\n",
    "              ON open.company_id = company.id\n",
    "              WHERE date BETWEEN date('2017-01-01') and date('2018-01-01')''', conn)"
   ]
  },
  {
   "cell_type": "code",
   "execution_count": 123,
   "metadata": {
    "ExecuteTime": {
     "end_time": "2020-09-02T18:26:41.896703Z",
     "start_time": "2020-09-02T18:26:41.389218Z"
    }
   },
   "outputs": [],
   "source": [
    "us_holidays = requests.get('https://date.nager.at/Api/v1/Get/US/2017').json()"
   ]
  },
  {
   "cell_type": "code",
   "execution_count": 126,
   "metadata": {
    "ExecuteTime": {
     "end_time": "2020-09-02T18:53:06.738921Z",
     "start_time": "2020-09-02T18:53:06.546194Z"
    }
   },
   "outputs": [
    {
     "data": {
      "image/png": "[encoded data removed]",
      "text/plain": [
       "<Figure size 432x288 with 1 Axes>"
      ]
     },
     "metadata": {
      "needs_background": "light"
     },
     "output_type": "display_data"
    }
   ],
   "source": [
    "stocks_2017.open.hist();"
   ]
  },
  {
   "cell_type": "code",
   "execution_count": 176,
   "metadata": {
    "ExecuteTime": {
     "end_time": "2020-09-02T19:43:11.608128Z",
     "start_time": "2020-09-02T19:43:11.043756Z"
    }
   },
   "outputs": [],
   "source": [
    "stocks_2017.date = pd.to_datetime(stocks_2017.date)\n",
    "holidays = [pd.to_datetime(holiday['date']) for holiday in us_holidays]\n",
    "def is_holiday(date):\n",
    "    if date in holidays:\n",
    "        return 1\n",
    "    else:\n",
    "        return 0\n",
    "    \n",
    "stocks_2017['is_holiday'] = stocks_2017.date.apply(is_holiday)"
   ]
  },
  {
   "cell_type": "code",
   "execution_count": 177,
   "metadata": {
    "ExecuteTime": {
     "end_time": "2020-09-02T19:43:22.438614Z",
     "start_time": "2020-09-02T19:43:22.430689Z"
    }
   },
   "outputs": [
    {
     "data": {
      "text/plain": [
       "0    124523\n",
       "1      1508\n",
       "Name: is_holiday, dtype: int64"
      ]
     },
     "execution_count": 177,
     "metadata": {},
     "output_type": "execute_result"
    }
   ],
   "source": [
    "stocks_2017.is_holiday.value_counts()"
   ]
  },
  {
   "cell_type": "code",
   "execution_count": 178,
   "metadata": {
    "ExecuteTime": {
     "end_time": "2020-09-02T19:53:05.186005Z",
     "start_time": "2020-09-02T19:53:05.173271Z"
    }
   },
   "outputs": [
    {
     "data": {
      "text/plain": [
       "'data/stocks.db'"
      ]
     },
     "execution_count": 178,
     "metadata": {},
     "output_type": "execute_result"
    }
   ],
   "source": [
    "import os\n",
    "os.path.join('data', 'stocks.db')"
   ]
  },
  {
   "cell_type": "code",
   "execution_count": null,
   "metadata": {},
   "outputs": [],
   "source": []
  }
 ],
 "metadata": {
  "kernelspec": {
   "display_name": "Python 3",
   "language": "python",
   "name": "python3"
  },
  "language_info": {
   "codemirror_mode": {
    "name": "ipython",
    "version": 3
   },
   "file_extension": ".py",
   "mimetype": "text/x-python",
   "name": "python",
   "nbconvert_exporter": "python",
   "pygments_lexer": "ipython3",
   "version": "3.7.7"
  },
  "toc": {
   "base_numbering": 1,
   "nav_menu": {},
   "number_sections": false,
   "sideBar": true,
   "skip_h1_title": true,
   "title_cell": "Table of Contents",
   "title_sidebar": "Contents",
   "toc_cell": false,
   "toc_position": {},
   "toc_section_display": true,
   "toc_window_display": false
  },
  "varInspector": {
   "cols": {
    "lenName": 16,
    "lenType": 16,
    "lenVar": 40
   },
   "kernels_config": {
    "python": {
     "delete_cmd_postfix": "",
     "delete_cmd_prefix": "del ",
     "library": "var_list.py",
     "varRefreshCmd": "print(var_dic_list())"
    },
    "r": {
     "delete_cmd_postfix": ") ",
     "delete_cmd_prefix": "rm(",
     "library": "var_list.r",
     "varRefreshCmd": "cat(var_dic_list()) "
    }
   },
   "types_to_exclude": [
    "module",
    "function",
    "builtin_function_or_method",
    "instance",
    "_Feature"
   ],
   "window_display": false
  }
 },
 "nbformat": 4,
 "nbformat_minor": 4
}
