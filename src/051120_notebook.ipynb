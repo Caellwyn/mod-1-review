{
 "cells": [
  {
   "cell_type": "markdown",
   "metadata": {
    "heading_collapsed": true
   },
   "source": [
    "# PANDAS 4EVER"
   ]
  },
  {
   "cell_type": "markdown",
   "metadata": {
    "hidden": true
   },
   "source": [
    "Import \n",
    "\n",
    "- pandas under the alias pd \n",
    "- datetime under the alias dt\n",
    "- mayplotlib.pyplot under the alias plt\n",
    "\n",
    "Run \n",
    "- %matplotlib inline\n",
    "\n",
    "Read in as data\n",
    "- the csv `FoodServiceData_23_0` in the data folder and assign to the variable `food`"
   ]
  },
  {
   "cell_type": "code",
   "execution_count": null,
   "metadata": {
    "hidden": true
   },
   "outputs": [],
   "source": []
  },
  {
   "cell_type": "markdown",
   "metadata": {
    "hidden": true
   },
   "source": [
    "## Data Exploration and Cleaning"
   ]
  },
  {
   "cell_type": "markdown",
   "metadata": {
    "hidden": true
   },
   "source": [
    "The first question to ask yourself of a dataset: \"what is this dataset treating as an observation?\"\n",
    "\n",
    "Think of an \"observation\" as an \"event\" or a \"subject\".  For example, an observation could be a:\n",
    "\n",
    "- specific subject, like an individual person, with features about that person's characteristics or behaviors: medical data like `blood pressure` or `test results`, econ / sociological data like `yearly income` or `crime rate of neighorhood in which they live`, behavioral data like what products they purchased)\n",
    "\n",
    "- aggregated subject, like in the Boston housing dataset, where each row was a suburb/town.  Features can be aggregated statistics about things within the region - like `crime rate` or `median house value` - or it can be about the specific region itself, such as `distance to Hahvahd Yahd`\n",
    "\n",
    "- event, where each row isn't tied to a specific identity but instead tied to a specific action that occured. Often, these types of datasets will have a number of features that act as keys that distinguish events from each other, as well as features containing data about the event. For example, a store with multiple locations might have a dataset of \"transactions\", where the key features for each row are `Store`, `Time` and `Transaction ID`, with other features `Item Purchased`, `Payment Method`, `Coupons Used`, etc.  Notice that the same type of data - purchasing items - can be organized as either features of a \"person\" or an \"event\".\n",
    "\n",
    "Figuring out which \"observation\" makes a row is an important part of figuring out how to analyze a dataset.  "
   ]
  },
  {
   "cell_type": "markdown",
   "metadata": {
    "hidden": true
   },
   "source": [
    "Take a look at the first five rows.  How does this dataset appear to be organized?  What is an \"observation\"?  What are the features?"
   ]
  },
  {
   "cell_type": "code",
   "execution_count": null,
   "metadata": {
    "hidden": true
   },
   "outputs": [],
   "source": [
    "#Your code here"
   ]
  },
  {
   "cell_type": "markdown",
   "metadata": {
    "hidden": true
   },
   "source": [
    "Which have nulls in them?"
   ]
  },
  {
   "cell_type": "code",
   "execution_count": null,
   "metadata": {
    "hidden": true
   },
   "outputs": [],
   "source": [
    "#Your code here"
   ]
  },
  {
   "cell_type": "markdown",
   "metadata": {
    "hidden": true
   },
   "source": [
    "#### There are 3 features that are all nulls, let's get rid of them.\n",
    "\n",
    "**First**, use a method to drop a specific column.  **Then**, for the other two, use a method that will drop all columns that are completely null. \n",
    "\n",
    "Check that only those columns were dropped."
   ]
  },
  {
   "cell_type": "code",
   "execution_count": null,
   "metadata": {
    "hidden": true
   },
   "outputs": [],
   "source": [
    "#Your code here"
   ]
  },
  {
   "cell_type": "markdown",
   "metadata": {
    "hidden": true
   },
   "source": [
    "#### For now, let's only look at rows w/ values in the `Score` column\n",
    "\n",
    "Drop all rows w/ nulls for `Score`.  Make sure you print out how many rows there are pre-drop, how many you dropped, and how many there are after dropping!"
   ]
  },
  {
   "cell_type": "code",
   "execution_count": null,
   "metadata": {
    "hidden": true
   },
   "outputs": [],
   "source": [
    "#Your code here"
   ]
  },
  {
   "cell_type": "markdown",
   "metadata": {
    "hidden": true
   },
   "source": [
    "#### Looks like there might be a relationship in nulls b/t `Score` and `Grade`\n",
    "\n",
    "Do all the nulls of `Score` also have nulls for `Grade`? Vice versa?"
   ]
  },
  {
   "cell_type": "code",
   "execution_count": null,
   "metadata": {
    "hidden": true
   },
   "outputs": [],
   "source": [
    "#Your code here"
   ]
  },
  {
   "cell_type": "markdown",
   "metadata": {
    "hidden": true
   },
   "source": [
    "#### Let's see if we can fill in those `Grade` values from `Score`\n",
    "\n",
    "How does `Grade` map onto `Score`?  Let's find the rows that have both `Grade` and `Score` values, group by `Grade`, and see the min, max and mean for `Score` for each `Grade`"
   ]
  },
  {
   "cell_type": "code",
   "execution_count": null,
   "metadata": {
    "hidden": true
   },
   "outputs": [],
   "source": [
    "#Your code here"
   ]
  },
  {
   "cell_type": "markdown",
   "metadata": {
    "hidden": true
   },
   "source": [
    "#### Whelp.  Let's just drop `Grade` then"
   ]
  },
  {
   "cell_type": "code",
   "execution_count": null,
   "metadata": {
    "hidden": true
   },
   "outputs": [],
   "source": [
    "#Your code here"
   ]
  },
  {
   "cell_type": "markdown",
   "metadata": {
    "hidden": true
   },
   "source": [
    "#### Let's familiarize ourselves with the levels of the categories for the features that are object types"
   ]
  },
  {
   "cell_type": "code",
   "execution_count": null,
   "metadata": {
    "hidden": true
   },
   "outputs": [],
   "source": [
    "#Your code here"
   ]
  },
  {
   "cell_type": "markdown",
   "metadata": {
    "hidden": true
   },
   "source": [
    "#### Do you see some columns that might be duplicated?\n",
    "\n",
    "Test to see if they're identical"
   ]
  },
  {
   "cell_type": "code",
   "execution_count": null,
   "metadata": {
    "hidden": true
   },
   "outputs": [],
   "source": [
    "#Your code here"
   ]
  },
  {
   "cell_type": "markdown",
   "metadata": {
    "hidden": true
   },
   "source": [
    "#### Of the two identical columns, drop the one that comes second"
   ]
  },
  {
   "cell_type": "code",
   "execution_count": null,
   "metadata": {
    "hidden": true
   },
   "outputs": [],
   "source": [
    "#Your code here"
   ]
  },
  {
   "cell_type": "markdown",
   "metadata": {
    "hidden": true
   },
   "source": [
    "#### Let's inspect the `InspectionDate` column\n",
    "\n",
    "What type is it?"
   ]
  },
  {
   "cell_type": "code",
   "execution_count": null,
   "metadata": {
    "hidden": true
   },
   "outputs": [],
   "source": [
    "#Your code here"
   ]
  },
  {
   "cell_type": "markdown",
   "metadata": {
    "hidden": true
   },
   "source": [
    "Convert the column to datetime object"
   ]
  },
  {
   "cell_type": "code",
   "execution_count": null,
   "metadata": {
    "hidden": true
   },
   "outputs": [],
   "source": [
    "#Your code here"
   ]
  },
  {
   "cell_type": "markdown",
   "metadata": {
    "hidden": true
   },
   "source": [
    "## Data Manipulation"
   ]
  },
  {
   "cell_type": "markdown",
   "metadata": {
    "hidden": true
   },
   "source": [
    "#### Let's keep working with that `InspectionDate` column"
   ]
  },
  {
   "cell_type": "markdown",
   "metadata": {
    "hidden": true
   },
   "source": [
    "Create a column that shows the day of inspection"
   ]
  },
  {
   "cell_type": "code",
   "execution_count": 231,
   "metadata": {
    "hidden": true
   },
   "outputs": [],
   "source": [
    "#Your code here"
   ]
  },
  {
   "cell_type": "markdown",
   "metadata": {
    "hidden": true
   },
   "source": [
    "#### Get mean score per day"
   ]
  },
  {
   "cell_type": "code",
   "execution_count": null,
   "metadata": {
    "hidden": true
   },
   "outputs": [],
   "source": [
    "#Your code here"
   ]
  },
  {
   "cell_type": "markdown",
   "metadata": {
    "hidden": true
   },
   "source": [
    "#### Graph!\n",
    "\n",
    "Give it a title \"Average Inspection Score by Date\"\n",
    "\n",
    "Label the axes \"Date\" and \"Avg Inspection Score\""
   ]
  },
  {
   "cell_type": "code",
   "execution_count": null,
   "metadata": {
    "hidden": true
   },
   "outputs": [],
   "source": [
    "#Your code here"
   ]
  },
  {
   "cell_type": "markdown",
   "metadata": {
    "hidden": true
   },
   "source": [
    "#### Let's say we wanted to compare it to a city that had scores that dropped down to 80\n",
    "\n",
    "Re-set the scale of the y-axis so it starts at 75 and ends at 100.  Re-graph."
   ]
  },
  {
   "cell_type": "code",
   "execution_count": null,
   "metadata": {
    "hidden": true
   },
   "outputs": [],
   "source": [
    "#Your code here"
   ]
  },
  {
   "cell_type": "markdown",
   "metadata": {
    "hidden": true
   },
   "source": [
    "Let's see how `Score` breaks down by `TypeDescription`.\n",
    "\n",
    "Create two columns, one whose value is the mean `Score` of the `TypeDescription` value for that row, one whose value is the std of `Score`\n",
    "- Groupby `TypeDescription` and calc the mean and std of `Score` \n",
    "- Merge with `Food` on `TypeDescription` value"
   ]
  },
  {
   "cell_type": "code",
   "execution_count": null,
   "metadata": {
    "hidden": true
   },
   "outputs": [],
   "source": [
    "#Your code here"
   ]
  },
  {
   "cell_type": "markdown",
   "metadata": {
    "hidden": true
   },
   "source": [
    "Calculate a new column that's difference between an inspections's `Score` and its `TypeDescription_Mean` in units of `TypeDescription_Std`"
   ]
  },
  {
   "cell_type": "code",
   "execution_count": null,
   "metadata": {
    "hidden": true
   },
   "outputs": [],
   "source": [
    "#Your code here"
   ]
  },
  {
   "cell_type": "markdown",
   "metadata": {
    "hidden": true
   },
   "source": [
    "Find the values of `EstablishmentName` of the 20 inspections whose `Score` most exceeds its `TypeDescrition_Mean`"
   ]
  },
  {
   "cell_type": "code",
   "execution_count": null,
   "metadata": {
    "hidden": true
   },
   "outputs": [],
   "source": [
    "#Your code here"
   ]
  },
  {
   "cell_type": "code",
   "execution_count": null,
   "metadata": {
    "hidden": true
   },
   "outputs": [],
   "source": []
  },
  {
   "cell_type": "markdown",
   "metadata": {},
   "source": [
    "# Import Libraries"
   ]
  },
  {
   "cell_type": "code",
   "execution_count": 1,
   "metadata": {
    "ExecuteTime": {
     "end_time": "2020-09-01T16:22:38.012615Z",
     "start_time": "2020-09-01T16:22:37.497424Z"
    },
    "code_folding": []
   },
   "outputs": [],
   "source": [
    "# SQL Connection and Querying\n",
    "import sqlite3\n",
    "\n",
    "# API Connection\n",
    "import requests\n",
    "\n",
    "import pandas as pd"
   ]
  },
  {
   "cell_type": "markdown",
   "metadata": {},
   "source": [
    "# SQL"
   ]
  },
  {
   "cell_type": "markdown",
   "metadata": {},
   "source": [
    "![](index_files/schema.png)"
   ]
  },
  {
   "cell_type": "markdown",
   "metadata": {},
   "source": [
    "Open a connection to ```chinook.db```"
   ]
  },
  {
   "cell_type": "code",
   "execution_count": 3,
   "metadata": {
    "ExecuteTime": {
     "end_time": "2020-05-21T21:06:39.091158Z",
     "start_time": "2020-05-21T21:06:39.084909Z"
    }
   },
   "outputs": [],
   "source": [
    "# Your code here\n",
    "conn = sqlite3.connect('data/chinook.db')"
   ]
  },
  {
   "cell_type": "markdown",
   "metadata": {},
   "source": [
    "## 1.\n",
    "\n",
    ">Select all column and rows from the genres table"
   ]
  },
  {
   "cell_type": "code",
   "execution_count": 6,
   "metadata": {
    "ExecuteTime": {
     "end_time": "2020-05-21T21:10:00.450565Z",
     "start_time": "2020-05-21T21:10:00.318268Z"
    }
   },
   "outputs": [
    {
     "data": {
      "text/html": [
       "<div>\n",
       "<style scoped>\n",
       "    .dataframe tbody tr th:only-of-type {\n",
       "        vertical-align: middle;\n",
       "    }\n",
       "\n",
       "    .dataframe tbody tr th {\n",
       "        vertical-align: top;\n",
       "    }\n",
       "\n",
       "    .dataframe thead th {\n",
       "        text-align: right;\n",
       "    }\n",
       "</style>\n",
       "<table border=\"1\" class=\"dataframe\">\n",
       "  <thead>\n",
       "    <tr style=\"text-align: right;\">\n",
       "      <th></th>\n",
       "      <th>GenreId</th>\n",
       "      <th>Name</th>\n",
       "    </tr>\n",
       "  </thead>\n",
       "  <tbody>\n",
       "    <tr>\n",
       "      <th>0</th>\n",
       "      <td>1</td>\n",
       "      <td>Rock</td>\n",
       "    </tr>\n",
       "    <tr>\n",
       "      <th>1</th>\n",
       "      <td>2</td>\n",
       "      <td>Jazz</td>\n",
       "    </tr>\n",
       "    <tr>\n",
       "      <th>2</th>\n",
       "      <td>3</td>\n",
       "      <td>Metal</td>\n",
       "    </tr>\n",
       "    <tr>\n",
       "      <th>3</th>\n",
       "      <td>4</td>\n",
       "      <td>Alternative &amp; Punk</td>\n",
       "    </tr>\n",
       "    <tr>\n",
       "      <th>4</th>\n",
       "      <td>5</td>\n",
       "      <td>Rock And Roll</td>\n",
       "    </tr>\n",
       "    <tr>\n",
       "      <th>5</th>\n",
       "      <td>6</td>\n",
       "      <td>Blues</td>\n",
       "    </tr>\n",
       "    <tr>\n",
       "      <th>6</th>\n",
       "      <td>7</td>\n",
       "      <td>Latin</td>\n",
       "    </tr>\n",
       "    <tr>\n",
       "      <th>7</th>\n",
       "      <td>8</td>\n",
       "      <td>Reggae</td>\n",
       "    </tr>\n",
       "    <tr>\n",
       "      <th>8</th>\n",
       "      <td>9</td>\n",
       "      <td>Pop</td>\n",
       "    </tr>\n",
       "    <tr>\n",
       "      <th>9</th>\n",
       "      <td>10</td>\n",
       "      <td>Soundtrack</td>\n",
       "    </tr>\n",
       "    <tr>\n",
       "      <th>10</th>\n",
       "      <td>11</td>\n",
       "      <td>Bossa Nova</td>\n",
       "    </tr>\n",
       "    <tr>\n",
       "      <th>11</th>\n",
       "      <td>12</td>\n",
       "      <td>Easy Listening</td>\n",
       "    </tr>\n",
       "    <tr>\n",
       "      <th>12</th>\n",
       "      <td>13</td>\n",
       "      <td>Heavy Metal</td>\n",
       "    </tr>\n",
       "    <tr>\n",
       "      <th>13</th>\n",
       "      <td>14</td>\n",
       "      <td>R&amp;B/Soul</td>\n",
       "    </tr>\n",
       "    <tr>\n",
       "      <th>14</th>\n",
       "      <td>15</td>\n",
       "      <td>Electronica/Dance</td>\n",
       "    </tr>\n",
       "    <tr>\n",
       "      <th>15</th>\n",
       "      <td>16</td>\n",
       "      <td>World</td>\n",
       "    </tr>\n",
       "    <tr>\n",
       "      <th>16</th>\n",
       "      <td>17</td>\n",
       "      <td>Hip Hop/Rap</td>\n",
       "    </tr>\n",
       "    <tr>\n",
       "      <th>17</th>\n",
       "      <td>18</td>\n",
       "      <td>Science Fiction</td>\n",
       "    </tr>\n",
       "    <tr>\n",
       "      <th>18</th>\n",
       "      <td>19</td>\n",
       "      <td>TV Shows</td>\n",
       "    </tr>\n",
       "    <tr>\n",
       "      <th>19</th>\n",
       "      <td>20</td>\n",
       "      <td>Sci Fi &amp; Fantasy</td>\n",
       "    </tr>\n",
       "    <tr>\n",
       "      <th>20</th>\n",
       "      <td>21</td>\n",
       "      <td>Drama</td>\n",
       "    </tr>\n",
       "    <tr>\n",
       "      <th>21</th>\n",
       "      <td>22</td>\n",
       "      <td>Comedy</td>\n",
       "    </tr>\n",
       "    <tr>\n",
       "      <th>22</th>\n",
       "      <td>23</td>\n",
       "      <td>Alternative</td>\n",
       "    </tr>\n",
       "    <tr>\n",
       "      <th>23</th>\n",
       "      <td>24</td>\n",
       "      <td>Classical</td>\n",
       "    </tr>\n",
       "    <tr>\n",
       "      <th>24</th>\n",
       "      <td>25</td>\n",
       "      <td>Opera</td>\n",
       "    </tr>\n",
       "  </tbody>\n",
       "</table>\n",
       "</div>"
      ],
      "text/plain": [
       "    GenreId                Name\n",
       "0         1                Rock\n",
       "1         2                Jazz\n",
       "2         3               Metal\n",
       "3         4  Alternative & Punk\n",
       "4         5       Rock And Roll\n",
       "5         6               Blues\n",
       "6         7               Latin\n",
       "7         8              Reggae\n",
       "8         9                 Pop\n",
       "9        10          Soundtrack\n",
       "10       11          Bossa Nova\n",
       "11       12      Easy Listening\n",
       "12       13         Heavy Metal\n",
       "13       14            R&B/Soul\n",
       "14       15   Electronica/Dance\n",
       "15       16               World\n",
       "16       17         Hip Hop/Rap\n",
       "17       18     Science Fiction\n",
       "18       19            TV Shows\n",
       "19       20    Sci Fi & Fantasy\n",
       "20       21               Drama\n",
       "21       22              Comedy\n",
       "22       23         Alternative\n",
       "23       24           Classical\n",
       "24       25               Opera"
      ]
     },
     "execution_count": 6,
     "metadata": {},
     "output_type": "execute_result"
    }
   ],
   "source": [
    "# Your code here\n",
    "QUERY = '''SELECT * from genres'''\n",
    "pd.read_sql(QUERY, conn)"
   ]
  },
  {
   "cell_type": "markdown",
   "metadata": {},
   "source": [
    "## 2.\n",
    "\n",
    "1. Select the ```City``` column from the ```customers``` table \n",
    "2. Select the ```Name``` column from the ```genres``` table –– aliased as \"Genre\" .\n",
    "3. Create a column that counts the number of purchases made from each city for Blues music.\n",
    "4. Sort the results in descending order.\n",
    "5. Return the top ten cities."
   ]
  },
  {
   "cell_type": "code",
   "execution_count": 7,
   "metadata": {
    "ExecuteTime": {
     "end_time": "2020-05-21T21:26:46.914315Z",
     "start_time": "2020-05-21T21:26:46.860920Z"
    }
   },
   "outputs": [
    {
     "data": {
      "text/html": [
       "<div>\n",
       "<style scoped>\n",
       "    .dataframe tbody tr th:only-of-type {\n",
       "        vertical-align: middle;\n",
       "    }\n",
       "\n",
       "    .dataframe tbody tr th {\n",
       "        vertical-align: top;\n",
       "    }\n",
       "\n",
       "    .dataframe thead th {\n",
       "        text-align: right;\n",
       "    }\n",
       "</style>\n",
       "<table border=\"1\" class=\"dataframe\">\n",
       "  <thead>\n",
       "    <tr style=\"text-align: right;\">\n",
       "      <th></th>\n",
       "      <th>City</th>\n",
       "      <th>Genre</th>\n",
       "      <th>Count</th>\n",
       "    </tr>\n",
       "  </thead>\n",
       "  <tbody>\n",
       "    <tr>\n",
       "      <th>0</th>\n",
       "      <td>Stuttgart</td>\n",
       "      <td>Blues</td>\n",
       "      <td>9</td>\n",
       "    </tr>\n",
       "    <tr>\n",
       "      <th>1</th>\n",
       "      <td>Brasília</td>\n",
       "      <td>Blues</td>\n",
       "      <td>6</td>\n",
       "    </tr>\n",
       "    <tr>\n",
       "      <th>2</th>\n",
       "      <td>New York</td>\n",
       "      <td>Blues</td>\n",
       "      <td>6</td>\n",
       "    </tr>\n",
       "    <tr>\n",
       "      <th>3</th>\n",
       "      <td>Berlin</td>\n",
       "      <td>Blues</td>\n",
       "      <td>5</td>\n",
       "    </tr>\n",
       "    <tr>\n",
       "      <th>4</th>\n",
       "      <td>Amsterdam</td>\n",
       "      <td>Blues</td>\n",
       "      <td>4</td>\n",
       "    </tr>\n",
       "    <tr>\n",
       "      <th>5</th>\n",
       "      <td>Rome</td>\n",
       "      <td>Blues</td>\n",
       "      <td>4</td>\n",
       "    </tr>\n",
       "    <tr>\n",
       "      <th>6</th>\n",
       "      <td>Cupertino</td>\n",
       "      <td>Blues</td>\n",
       "      <td>3</td>\n",
       "    </tr>\n",
       "    <tr>\n",
       "      <th>7</th>\n",
       "      <td>Delhi</td>\n",
       "      <td>Blues</td>\n",
       "      <td>3</td>\n",
       "    </tr>\n",
       "    <tr>\n",
       "      <th>8</th>\n",
       "      <td>Mountain View</td>\n",
       "      <td>Blues</td>\n",
       "      <td>3</td>\n",
       "    </tr>\n",
       "    <tr>\n",
       "      <th>9</th>\n",
       "      <td>Budapest</td>\n",
       "      <td>Blues</td>\n",
       "      <td>2</td>\n",
       "    </tr>\n",
       "  </tbody>\n",
       "</table>\n",
       "</div>"
      ],
      "text/plain": [
       "            City  Genre  Count\n",
       "0      Stuttgart  Blues      9\n",
       "1       Brasília  Blues      6\n",
       "2       New York  Blues      6\n",
       "3         Berlin  Blues      5\n",
       "4      Amsterdam  Blues      4\n",
       "5           Rome  Blues      4\n",
       "6      Cupertino  Blues      3\n",
       "7          Delhi  Blues      3\n",
       "8  Mountain View  Blues      3\n",
       "9       Budapest  Blues      2"
      ]
     },
     "execution_count": 7,
     "metadata": {},
     "output_type": "execute_result"
    }
   ],
   "source": [
    "# Your code here\n",
    "QUERY = '''SELECT customers.City,\n",
    "                  genres.Name AS Genre,\n",
    "                  SUM(invoice_items.quantity) as Count\n",
    "           FROM customers\n",
    "           JOIN invoices\n",
    "           USING(CustomerId)\n",
    "           JOIN invoice_items\n",
    "           USING(InvoiceId)\n",
    "           JOIN tracks\n",
    "           USING(TrackId)\n",
    "           JOIN genres\n",
    "           USING(GenreId)\n",
    "           WHERE Genre = \"Blues\"\n",
    "           GROUP BY customers.City\n",
    "           ORDER BY Count DESC\n",
    "           LIMIT 10\n",
    "           '''\n",
    "pd.read_sql(QUERY, conn)"
   ]
  },
  {
   "cell_type": "markdown",
   "metadata": {},
   "source": [
    "## 3.\n",
    "\n",
    "1. Select the ```FirstName``` column from the ```customers``` table\n",
    "2. Select the ```LastName``` column from the ```customers``` table\n",
    "3. Select the ```Email``` column from the ```customers``` table\n",
    "4. Create a new column that is the multiplication of the ```UnitPrice``` and ```Quantity``` columns from the ```invoice_items``` table. \n",
    "    - Alias this column as ```Total```.\n",
    "5. Use ```GROUP BY```  to return the sum total for each customer\n",
    "6. Sort in descending order\n",
    "7. Return the top 20 highest spending customers."
   ]
  },
  {
   "cell_type": "code",
   "execution_count": null,
   "metadata": {},
   "outputs": [],
   "source": [
    "# Your code here\n",
    "QUERY = '''SELECT title'''\n",
    "pd.read_sql(QUERY, conn)"
   ]
  },
  {
   "cell_type": "markdown",
   "metadata": {},
   "source": [
    "# API\n",
    "\n",
    "\n",
    ">For this review, we will take a look at three separate APIs and work through the process of writing requests based on each APIs documentation."
   ]
  },
  {
   "cell_type": "markdown",
   "metadata": {},
   "source": [
    "## Public Holiday API\n",
    "\n",
    ">This API provides public holiday information for more than 90 countries. \n",
    "\n",
    ">The API's Documentation can be found [here](https://date.nager.at/swagger/index.html)\n",
    "\n"
   ]
  },
  {
   "cell_type": "markdown",
   "metadata": {},
   "source": [
    "**Write a request to return all available countries**"
   ]
  },
  {
   "cell_type": "code",
   "execution_count": 2,
   "metadata": {
    "ExecuteTime": {
     "end_time": "2020-09-01T16:22:53.401987Z",
     "start_time": "2020-09-01T16:22:52.668246Z"
    },
    "code_folding": []
   },
   "outputs": [
    {
     "data": {
      "text/plain": [
       "[{'key': 'AD', 'value': 'Andorra'}, {'key': 'AL', 'value': 'Albania'}]"
      ]
     },
     "execution_count": 2,
     "metadata": {},
     "output_type": "execute_result"
    }
   ],
   "source": [
    "# Your code here\n",
    "REQUEST = 'https://date.nager.at/Api/v2/AvailableCountries'\n",
    "req = requests.get(REQUEST).json()\n",
    "req[:2]"
   ]
  },
  {
   "cell_type": "markdown",
   "metadata": {},
   "source": [
    "**Convert the results of our request to a DataFrame**"
   ]
  },
  {
   "cell_type": "code",
   "execution_count": 3,
   "metadata": {
    "ExecuteTime": {
     "end_time": "2020-09-01T16:22:58.413613Z",
     "start_time": "2020-09-01T16:22:58.407691Z"
    },
    "code_folding": [],
    "scrolled": true
   },
   "outputs": [],
   "source": [
    "# Your code here\n",
    "countries = pd.DataFrame(req)"
   ]
  },
  {
   "cell_type": "code",
   "execution_count": 4,
   "metadata": {
    "ExecuteTime": {
     "end_time": "2020-09-01T16:23:01.827952Z",
     "start_time": "2020-09-01T16:23:01.816892Z"
    }
   },
   "outputs": [
    {
     "data": {
      "text/html": [
       "<div>\n",
       "<style scoped>\n",
       "    .dataframe tbody tr th:only-of-type {\n",
       "        vertical-align: middle;\n",
       "    }\n",
       "\n",
       "    .dataframe tbody tr th {\n",
       "        vertical-align: top;\n",
       "    }\n",
       "\n",
       "    .dataframe thead th {\n",
       "        text-align: right;\n",
       "    }\n",
       "</style>\n",
       "<table border=\"1\" class=\"dataframe\">\n",
       "  <thead>\n",
       "    <tr style=\"text-align: right;\">\n",
       "      <th></th>\n",
       "      <th>key</th>\n",
       "      <th>value</th>\n",
       "    </tr>\n",
       "  </thead>\n",
       "  <tbody>\n",
       "    <tr>\n",
       "      <th>0</th>\n",
       "      <td>AD</td>\n",
       "      <td>Andorra</td>\n",
       "    </tr>\n",
       "    <tr>\n",
       "      <th>1</th>\n",
       "      <td>AL</td>\n",
       "      <td>Albania</td>\n",
       "    </tr>\n",
       "    <tr>\n",
       "      <th>2</th>\n",
       "      <td>AR</td>\n",
       "      <td>Argentina</td>\n",
       "    </tr>\n",
       "    <tr>\n",
       "      <th>3</th>\n",
       "      <td>AT</td>\n",
       "      <td>Austria</td>\n",
       "    </tr>\n",
       "    <tr>\n",
       "      <th>4</th>\n",
       "      <td>AU</td>\n",
       "      <td>Australia</td>\n",
       "    </tr>\n",
       "    <tr>\n",
       "      <th>...</th>\n",
       "      <td>...</td>\n",
       "      <td>...</td>\n",
       "    </tr>\n",
       "    <tr>\n",
       "      <th>96</th>\n",
       "      <td>VA</td>\n",
       "      <td>Vatican City</td>\n",
       "    </tr>\n",
       "    <tr>\n",
       "      <th>97</th>\n",
       "      <td>VE</td>\n",
       "      <td>Venezuela</td>\n",
       "    </tr>\n",
       "    <tr>\n",
       "      <th>98</th>\n",
       "      <td>VN</td>\n",
       "      <td>Vietnam</td>\n",
       "    </tr>\n",
       "    <tr>\n",
       "      <th>99</th>\n",
       "      <td>ZA</td>\n",
       "      <td>South Africa</td>\n",
       "    </tr>\n",
       "    <tr>\n",
       "      <th>100</th>\n",
       "      <td>ZW</td>\n",
       "      <td>Zimbabwe</td>\n",
       "    </tr>\n",
       "  </tbody>\n",
       "</table>\n",
       "<p>101 rows × 2 columns</p>\n",
       "</div>"
      ],
      "text/plain": [
       "    key         value\n",
       "0    AD       Andorra\n",
       "1    AL       Albania\n",
       "2    AR     Argentina\n",
       "3    AT       Austria\n",
       "4    AU     Australia\n",
       "..   ..           ...\n",
       "96   VA  Vatican City\n",
       "97   VE     Venezuela\n",
       "98   VN       Vietnam\n",
       "99   ZA  South Africa\n",
       "100  ZW      Zimbabwe\n",
       "\n",
       "[101 rows x 2 columns]"
      ]
     },
     "execution_count": 4,
     "metadata": {},
     "output_type": "execute_result"
    }
   ],
   "source": [
    "countries"
   ]
  },
  {
   "cell_type": "code",
   "execution_count": 5,
   "metadata": {
    "ExecuteTime": {
     "end_time": "2020-09-01T16:23:54.235718Z",
     "start_time": "2020-09-01T16:23:04.285690Z"
    }
   },
   "outputs": [],
   "source": [
    "for idx, row in countries.iterrows():\n",
    "    key = row.key\n",
    "    REQUEST = '''https://date.nager.at/Api/v2/PublicHolidays/2019/{}'''.format(key)\n",
    "    req = requests.get(REQUEST).json()"
   ]
  },
  {
   "cell_type": "markdown",
   "metadata": {},
   "source": [
    "**What is the key for the United States?**"
   ]
  },
  {
   "cell_type": "code",
   "execution_count": 6,
   "metadata": {
    "ExecuteTime": {
     "end_time": "2020-09-01T16:24:04.619712Z",
     "start_time": "2020-09-01T16:24:04.615627Z"
    },
    "code_folding": []
   },
   "outputs": [],
   "source": [
    "# Your code here\n",
    "us_key = countries[(countries[\"value\"] == 'United States')]['key'].values[0]"
   ]
  },
  {
   "cell_type": "markdown",
   "metadata": {},
   "source": [
    "**Make a request to the API that returns the public holidays for the United States**"
   ]
  },
  {
   "cell_type": "code",
   "execution_count": 7,
   "metadata": {
    "ExecuteTime": {
     "end_time": "2020-09-01T16:24:07.033631Z",
     "start_time": "2020-09-01T16:24:06.530239Z"
    },
    "code_folding": []
   },
   "outputs": [],
   "source": [
    "# Your code here\n",
    "REQUEST = '''https://date.nager.at/Api/v2/PublicHolidays/2019/{}'''.format(us_key)\n",
    "req = requests.get(REQUEST).json()"
   ]
  },
  {
   "cell_type": "markdown",
   "metadata": {},
   "source": [
    "**Convert ```us``` to a DataFrame**"
   ]
  },
  {
   "cell_type": "code",
   "execution_count": 8,
   "metadata": {
    "ExecuteTime": {
     "end_time": "2020-09-01T16:24:10.986186Z",
     "start_time": "2020-09-01T16:24:10.980605Z"
    }
   },
   "outputs": [],
   "source": [
    "# Your code here\n",
    "us = pd.DataFrame(req)"
   ]
  },
  {
   "cell_type": "code",
   "execution_count": 9,
   "metadata": {
    "ExecuteTime": {
     "end_time": "2020-09-01T16:24:14.167624Z",
     "start_time": "2020-09-01T16:24:14.151895Z"
    }
   },
   "outputs": [
    {
     "data": {
      "text/html": [
       "<div>\n",
       "<style scoped>\n",
       "    .dataframe tbody tr th:only-of-type {\n",
       "        vertical-align: middle;\n",
       "    }\n",
       "\n",
       "    .dataframe tbody tr th {\n",
       "        vertical-align: top;\n",
       "    }\n",
       "\n",
       "    .dataframe thead th {\n",
       "        text-align: right;\n",
       "    }\n",
       "</style>\n",
       "<table border=\"1\" class=\"dataframe\">\n",
       "  <thead>\n",
       "    <tr style=\"text-align: right;\">\n",
       "      <th></th>\n",
       "      <th>date</th>\n",
       "      <th>localName</th>\n",
       "      <th>name</th>\n",
       "      <th>countryCode</th>\n",
       "      <th>fixed</th>\n",
       "      <th>global</th>\n",
       "      <th>counties</th>\n",
       "      <th>launchYear</th>\n",
       "      <th>type</th>\n",
       "    </tr>\n",
       "  </thead>\n",
       "  <tbody>\n",
       "    <tr>\n",
       "      <th>0</th>\n",
       "      <td>2019-01-01</td>\n",
       "      <td>New Year's Day</td>\n",
       "      <td>New Year's Day</td>\n",
       "      <td>US</td>\n",
       "      <td>False</td>\n",
       "      <td>True</td>\n",
       "      <td>None</td>\n",
       "      <td>NaN</td>\n",
       "      <td>Public</td>\n",
       "    </tr>\n",
       "    <tr>\n",
       "      <th>1</th>\n",
       "      <td>2019-01-21</td>\n",
       "      <td>Martin Luther King, Jr. Day</td>\n",
       "      <td>Martin Luther King, Jr. Day</td>\n",
       "      <td>US</td>\n",
       "      <td>False</td>\n",
       "      <td>True</td>\n",
       "      <td>None</td>\n",
       "      <td>NaN</td>\n",
       "      <td>Public</td>\n",
       "    </tr>\n",
       "    <tr>\n",
       "      <th>2</th>\n",
       "      <td>2019-02-18</td>\n",
       "      <td>Presidents Day</td>\n",
       "      <td>Washington's Birthday</td>\n",
       "      <td>US</td>\n",
       "      <td>False</td>\n",
       "      <td>True</td>\n",
       "      <td>None</td>\n",
       "      <td>NaN</td>\n",
       "      <td>Public</td>\n",
       "    </tr>\n",
       "    <tr>\n",
       "      <th>3</th>\n",
       "      <td>2019-05-27</td>\n",
       "      <td>Memorial Day</td>\n",
       "      <td>Memorial Day</td>\n",
       "      <td>US</td>\n",
       "      <td>False</td>\n",
       "      <td>True</td>\n",
       "      <td>None</td>\n",
       "      <td>NaN</td>\n",
       "      <td>Public</td>\n",
       "    </tr>\n",
       "    <tr>\n",
       "      <th>4</th>\n",
       "      <td>2019-07-04</td>\n",
       "      <td>Independence Day</td>\n",
       "      <td>Independence Day</td>\n",
       "      <td>US</td>\n",
       "      <td>False</td>\n",
       "      <td>True</td>\n",
       "      <td>None</td>\n",
       "      <td>NaN</td>\n",
       "      <td>Public</td>\n",
       "    </tr>\n",
       "    <tr>\n",
       "      <th>5</th>\n",
       "      <td>2019-09-02</td>\n",
       "      <td>Labor Day</td>\n",
       "      <td>Labour Day</td>\n",
       "      <td>US</td>\n",
       "      <td>False</td>\n",
       "      <td>True</td>\n",
       "      <td>None</td>\n",
       "      <td>NaN</td>\n",
       "      <td>Public</td>\n",
       "    </tr>\n",
       "    <tr>\n",
       "      <th>6</th>\n",
       "      <td>2019-10-14</td>\n",
       "      <td>Columbus Day</td>\n",
       "      <td>Columbus Day</td>\n",
       "      <td>US</td>\n",
       "      <td>False</td>\n",
       "      <td>False</td>\n",
       "      <td>[US-AL, US-AZ, US-CO, US-CT, US-DC, US-GA, US-...</td>\n",
       "      <td>NaN</td>\n",
       "      <td>Public</td>\n",
       "    </tr>\n",
       "    <tr>\n",
       "      <th>7</th>\n",
       "      <td>2019-11-11</td>\n",
       "      <td>Veterans Day</td>\n",
       "      <td>Veterans Day</td>\n",
       "      <td>US</td>\n",
       "      <td>False</td>\n",
       "      <td>True</td>\n",
       "      <td>None</td>\n",
       "      <td>NaN</td>\n",
       "      <td>Public</td>\n",
       "    </tr>\n",
       "    <tr>\n",
       "      <th>8</th>\n",
       "      <td>2019-11-28</td>\n",
       "      <td>Thanksgiving Day</td>\n",
       "      <td>Thanksgiving Day</td>\n",
       "      <td>US</td>\n",
       "      <td>False</td>\n",
       "      <td>True</td>\n",
       "      <td>None</td>\n",
       "      <td>1863.0</td>\n",
       "      <td>Public</td>\n",
       "    </tr>\n",
       "    <tr>\n",
       "      <th>9</th>\n",
       "      <td>2019-12-25</td>\n",
       "      <td>Christmas Day</td>\n",
       "      <td>Christmas Day</td>\n",
       "      <td>US</td>\n",
       "      <td>False</td>\n",
       "      <td>True</td>\n",
       "      <td>None</td>\n",
       "      <td>NaN</td>\n",
       "      <td>Public</td>\n",
       "    </tr>\n",
       "  </tbody>\n",
       "</table>\n",
       "</div>"
      ],
      "text/plain": [
       "         date                    localName                         name  \\\n",
       "0  2019-01-01               New Year's Day               New Year's Day   \n",
       "1  2019-01-21  Martin Luther King, Jr. Day  Martin Luther King, Jr. Day   \n",
       "2  2019-02-18               Presidents Day        Washington's Birthday   \n",
       "3  2019-05-27                 Memorial Day                 Memorial Day   \n",
       "4  2019-07-04             Independence Day             Independence Day   \n",
       "5  2019-09-02                    Labor Day                   Labour Day   \n",
       "6  2019-10-14                 Columbus Day                 Columbus Day   \n",
       "7  2019-11-11                 Veterans Day                 Veterans Day   \n",
       "8  2019-11-28             Thanksgiving Day             Thanksgiving Day   \n",
       "9  2019-12-25                Christmas Day                Christmas Day   \n",
       "\n",
       "  countryCode  fixed  global  \\\n",
       "0          US  False    True   \n",
       "1          US  False    True   \n",
       "2          US  False    True   \n",
       "3          US  False    True   \n",
       "4          US  False    True   \n",
       "5          US  False    True   \n",
       "6          US  False   False   \n",
       "7          US  False    True   \n",
       "8          US  False    True   \n",
       "9          US  False    True   \n",
       "\n",
       "                                            counties  launchYear    type  \n",
       "0                                               None         NaN  Public  \n",
       "1                                               None         NaN  Public  \n",
       "2                                               None         NaN  Public  \n",
       "3                                               None         NaN  Public  \n",
       "4                                               None         NaN  Public  \n",
       "5                                               None         NaN  Public  \n",
       "6  [US-AL, US-AZ, US-CO, US-CT, US-DC, US-GA, US-...         NaN  Public  \n",
       "7                                               None         NaN  Public  \n",
       "8                                               None      1863.0  Public  \n",
       "9                                               None         NaN  Public  "
      ]
     },
     "execution_count": 9,
     "metadata": {},
     "output_type": "execute_result"
    }
   ],
   "source": [
    "us"
   ]
  },
  {
   "cell_type": "markdown",
   "metadata": {},
   "source": [
    "## iTunes API\n",
    "\n",
    "Documentation for this API can be found [here](https://affiliate.itunes.apple.com/resources/documentation/itunes-store-web-service-search-api/)"
   ]
  },
  {
   "cell_type": "markdown",
   "metadata": {},
   "source": [
    "Submit a request to the iTunes API that returns data on Harry Potter Audio Books"
   ]
  },
  {
   "cell_type": "code",
   "execution_count": 13,
   "metadata": {
    "ExecuteTime": {
     "end_time": "2020-09-01T18:51:07.964755Z",
     "start_time": "2020-09-01T18:51:07.277412Z"
    }
   },
   "outputs": [],
   "source": [
    "# Your code here\n",
    "SEARCH_TERM = 'Harry Potter'\n",
    "MEDIA_TYPE = 'audiobook'\n",
    "REQUEST = 'https://itunes.apple.com/search?term={}&entity={}'.format(SEARCH_TERM, MEDIA_TYPE)\n",
    "req = requests.get(REQUEST).json()"
   ]
  },
  {
   "cell_type": "code",
   "execution_count": 14,
   "metadata": {
    "ExecuteTime": {
     "end_time": "2020-09-01T18:51:10.543538Z",
     "start_time": "2020-09-01T18:51:10.498276Z"
    }
   },
   "outputs": [
    {
     "data": {
      "text/plain": [
       "{'resultCount': 50,\n",
       " 'results': [{'wrapperType': 'audiobook',\n",
       "   'artistId': 2063810,\n",
       "   'collectionId': 404718259,\n",
       "   'artistName': 'Michael Gerber',\n",
       "   'collectionName': 'Barry Trotter and the Unauthorized Parody (Unabridged)',\n",
       "   'collectionCensoredName': 'Barry Trotter and the Unauthorized Parody (Unabridged)',\n",
       "   'artistViewUrl': 'https://books.apple.com/us/author/michael-gerber/id2063810?uo=4',\n",
       "   'collectionViewUrl': 'https://books.apple.com/us/audiobook/barry-trotter-and-the-unauthorized-parody-unabridged/id404718259?uo=4',\n",
       "   'artworkUrl60': 'https://is5-ssl.mzstatic.com/image/thumb/Music118/v4/e8/d8/cd/e8d8cd93-70c0-e8c7-b5c6-05e52620ddd4/rm_image.jpg/60x60bb.jpg',\n",
       "   'artworkUrl100': 'https://is5-ssl.mzstatic.com/image/thumb/Music118/v4/e8/d8/cd/e8d8cd93-70c0-e8c7-b5c6-05e52620ddd4/rm_image.jpg/100x100bb.jpg',\n",
       "   'collectionPrice': 14.99,\n",
       "   'collectionExplicitness': 'notExplicit',\n",
       "   'trackCount': 1,\n",
       "   'copyright': '© 2002 Phoenix Books',\n",
       "   'country': 'USA',\n",
       "   'currency': 'USD',\n",
       "   'releaseDate': '2002-12-06T08:00:00Z',\n",
       "   'primaryGenreName': 'Comedy',\n",
       "   'previewUrl': 'https://audio-ssl.itunes.apple.com/itunes-assets/AudioPreview123/v4/41/a5/32/41a532ee-5e9f-6e84-3a42-438d015891b0/mzaf_325305468412483501.std.aac.p.m4a',\n",
       "   'description': 'Warning: This isn\\'t the real thing...it\\'s funnier!<br />\"Stop that movie,\" Headmaster Alpo Bumblemore said, \"or Hogwash is history!\" After someone sells directions to the school to a sleazy Muddle tabloid, Barry Trotter, Ermine Cringer, and Lon Measly are hauled out of retirement to face their toughest challenge yet. Not only do the 22-year-olds have to elude packs of rabid fans, outwit Barry\\'s sponging Uncle Serious, and vanquish their old foe Lord Valumart, they have to face the most powerful enemy of all: Hollywood!<br /><br />This audiobook has not been authorized or endorsed by J.K. Rowling or the publishers of the Harry Potter books. Harry Potter is a registered trademark of Warner Bros.'},\n",
       "  {'wrapperType': 'audiobook',\n",
       "   'artistId': 203147610,\n",
       "   'collectionId': 326108231,\n",
       "   'artistName': 'D.M. Paul',\n",
       "   'collectionName': 'One Wizard Place (Unabridged)',\n",
       "   'collectionCensoredName': 'One Wizard Place (Unabridged)',\n",
       "   'artistViewUrl': 'https://books.apple.com/us/author/d-m-paul/id203147610?uo=4',\n",
       "   'collectionViewUrl': 'https://books.apple.com/us/audiobook/one-wizard-place-unabridged/id326108231?uo=4',\n",
       "   'artworkUrl60': 'https://is2-ssl.mzstatic.com/image/thumb/Music/ac/a5/01/mzi.iekfzvta.jpg/60x60bb.jpg',\n",
       "   'artworkUrl100': 'https://is2-ssl.mzstatic.com/image/thumb/Music/ac/a5/01/mzi.iekfzvta.jpg/100x100bb.jpg',\n",
       "   'collectionPrice': 11.99,\n",
       "   'collectionExplicitness': 'notExplicit',\n",
       "   'trackCount': 1,\n",
       "   'copyright': '© 2006 Big Happy Family, LLC',\n",
       "   'country': 'USA',\n",
       "   'currency': 'USD',\n",
       "   'releaseDate': '2006-06-01T07:00:00Z',\n",
       "   'primaryGenreName': 'Kids & Young Adults',\n",
       "   'previewUrl': 'https://audio-ssl.itunes.apple.com/itunes-assets/AudioPreview113/v4/c9/eb/df/c9ebdf7f-8765-a122-8eec-18f4490df5ee/mzaf_1025375273496207661.std.aac.p.m4a',\n",
       "   'description': 'Young Kase and his faithful partner Murdox – who just happens to be a talking wolf-dog – are agents for the Incantation Enforcement Agency, Counter-Curse Division. In a world where magic and technology are intertwined, they have the unpleasant job of righting magic that has gone wrong.<br /> Following the completion of the difficult task of rousting some pesky nixies, they learn that their next assignment involves saving an elf king who is slowly turning to stone after drinking a mystical afternoon tea. What begins as a typical quirky assignment turns out to be a quest that takes them to forbidden lands, where they encounter magical beasts and unique challenges destined to test all their skills and intelligence.'},\n",
       "  {'wrapperType': 'audiobook',\n",
       "   'artistId': 79595314,\n",
       "   'collectionId': 1442174040,\n",
       "   'artistName': 'J.K. Rowling',\n",
       "   'collectionName': \"Harry Potter and the Sorcerer's Stone\",\n",
       "   'collectionCensoredName': \"Harry Potter and the Sorcerer's Stone\",\n",
       "   'artistViewUrl': 'https://books.apple.com/us/author/j-k-rowling/id79595314?uo=4',\n",
       "   'collectionViewUrl': 'https://books.apple.com/us/audiobook/harry-potter-and-the-sorcerers-stone/id1442174040?uo=4',\n",
       "   'artworkUrl60': 'https://is2-ssl.mzstatic.com/image/thumb/Music113/v4/37/71/3b/37713b85-1779-9482-80a5-1ba931ee8842/9781781102633.jpg/60x60bb.jpg',\n",
       "   'artworkUrl100': 'https://is2-ssl.mzstatic.com/image/thumb/Music113/v4/37/71/3b/37713b85-1779-9482-80a5-1ba931ee8842/9781781102633.jpg/100x100bb.jpg',\n",
       "   'collectionPrice': 12.99,\n",
       "   'collectionExplicitness': 'notExplicit',\n",
       "   'trackCount': 1,\n",
       "   'country': 'USA',\n",
       "   'currency': 'USD',\n",
       "   'releaseDate': '2015-11-20T08:00:00Z',\n",
       "   'primaryGenreName': 'Fiction',\n",
       "   'previewUrl': 'https://audio-ssl.itunes.apple.com/itunes-assets/AudioPreview124/v4/9c/6e/85/9c6e85e7-bf2e-d8cc-20c8-c0c117f017d2/mzaf_3849269194127981406.std.aac.p.m4a',\n",
       "   'description': \"<i>Turning the envelope over, his hand trembling, Harry saw a purple wax seal bearing a coat of arms; a lion, an eagle, a badger and a snake surrounding a large letter 'H'.</i><br /><br />Harry Potter has never even heard of Hogwarts when the letters start dropping on the doormat at number four, Privet Drive. Addressed in green ink on yellowish parchment with a purple seal, they are swiftly confiscated by his grisly aunt and uncle. Then, on Harry's eleventh birthday, a great beetle-eyed giant of a man called Rubeus Hagrid bursts in with some astonishing news: Harry Potter is a wizard, and he has a place at Hogwarts School of Witchcraft and Wizardry. An incredible adventure is about to begin!\"},\n",
       "  {'wrapperType': 'audiobook',\n",
       "   'artistId': 79595314,\n",
       "   'collectionId': 1442147068,\n",
       "   'artistName': 'J.K. Rowling',\n",
       "   'collectionName': 'Harry Potter and the Chamber of Secrets',\n",
       "   'collectionCensoredName': 'Harry Potter and the Chamber of Secrets',\n",
       "   'artistViewUrl': 'https://books.apple.com/us/author/j-k-rowling/id79595314?uo=4',\n",
       "   'collectionViewUrl': 'https://books.apple.com/us/audiobook/harry-potter-and-the-chamber-of-secrets/id1442147068?uo=4',\n",
       "   'artworkUrl60': 'https://is5-ssl.mzstatic.com/image/thumb/Music113/v4/5a/75/0d/5a750de3-20a8-879b-ead0-fbb7d766dfa1/9781781102640.jpg/60x60bb.jpg',\n",
       "   'artworkUrl100': 'https://is5-ssl.mzstatic.com/image/thumb/Music113/v4/5a/75/0d/5a750de3-20a8-879b-ead0-fbb7d766dfa1/9781781102640.jpg/100x100bb.jpg',\n",
       "   'collectionPrice': 12.99,\n",
       "   'collectionExplicitness': 'notExplicit',\n",
       "   'trackCount': 1,\n",
       "   'country': 'USA',\n",
       "   'currency': 'USD',\n",
       "   'releaseDate': '2015-11-20T08:00:00Z',\n",
       "   'primaryGenreName': 'Fiction',\n",
       "   'previewUrl': 'https://audio-ssl.itunes.apple.com/itunes-assets/AudioPreview113/v4/8c/64/66/8c646645-3538-f56c-6faa-d60deafb97a1/mzaf_15996819125001602009.std.aac.p.m4a',\n",
       "   'description': \"<i>'There is a plot, Harry Potter. A plot to make most terrible things happen at Hogwarts School of Witchcraft and Wizardry this year.'<br /></i><br />Harry Potter's summer has included the worst birthday ever, doomy warnings from a house-elf called Dobby, and rescue from the Dursleys by his friend Ron Weasley in a magical flying car! Back at Hogwarts School of Witchcraft and Wizardry for his second year, Harry hears strange whispers echo through empty corridors - and then the attacks start. Students are found as though turned to stone... Dobby's sinister predictions seem to be coming true.\"},\n",
       "  {'wrapperType': 'audiobook',\n",
       "   'artistId': 79595314,\n",
       "   'collectionId': 1442036849,\n",
       "   'artistName': 'J.K. Rowling',\n",
       "   'collectionName': 'Harry Potter and the Prisoner of Azkaban',\n",
       "   'collectionCensoredName': 'Harry Potter and the Prisoner of Azkaban',\n",
       "   'artistViewUrl': 'https://books.apple.com/us/author/j-k-rowling/id79595314?uo=4',\n",
       "   'collectionViewUrl': 'https://books.apple.com/us/audiobook/harry-potter-and-the-prisoner-of-azkaban/id1442036849?uo=4',\n",
       "   'artworkUrl60': 'https://is5-ssl.mzstatic.com/image/thumb/Music113/v4/72/bf/17/72bf17b6-9ca3-ae9d-98f9-c6b7f3b22972/9781781102657.jpg/60x60bb.jpg',\n",
       "   'artworkUrl100': 'https://is5-ssl.mzstatic.com/image/thumb/Music113/v4/72/bf/17/72bf17b6-9ca3-ae9d-98f9-c6b7f3b22972/9781781102657.jpg/100x100bb.jpg',\n",
       "   'collectionPrice': 12.99,\n",
       "   'collectionExplicitness': 'notExplicit',\n",
       "   'trackCount': 1,\n",
       "   'country': 'USA',\n",
       "   'currency': 'USD',\n",
       "   'releaseDate': '2015-11-20T08:00:00Z',\n",
       "   'primaryGenreName': 'Fiction',\n",
       "   'previewUrl': 'https://audio-ssl.itunes.apple.com/itunes-assets/AudioPreview123/v4/39/b8/a7/39b8a73c-f30e-59f0-e7a2-c041ec9101b1/mzaf_15805617743126828772.std.aac.p.m4a',\n",
       "   'description': \"<i>'Welcome to the Knight Bus, emergency transport for the stranded witch or wizard. Just stick out your wand hand, step on board and we can take you anywhere you want to go.'</i><br /><br />When the Knight Bus crashes through the darkness and screeches to a halt in front of him, it's the start of another far from ordinary year at Hogwarts for Harry Potter. Sirius Black, escaped mass-murderer and follower of Lord Voldemort, is on the run - and they say he is coming after Harry. In his first ever Divination class, Professor Trelawney sees an omen of death in Harry's tea leaves... But perhaps most terrifying of all are the Dementors patrolling the school grounds, with their soul-sucking kiss...\"},\n",
       "  {'wrapperType': 'audiobook',\n",
       "   'artistId': 79595314,\n",
       "   'collectionId': 1442185541,\n",
       "   'artistName': 'J.K. Rowling',\n",
       "   'collectionName': 'Harry Potter and the Goblet of Fire',\n",
       "   'collectionCensoredName': 'Harry Potter and the Goblet of Fire',\n",
       "   'artistViewUrl': 'https://books.apple.com/us/author/j-k-rowling/id79595314?uo=4',\n",
       "   'collectionViewUrl': 'https://books.apple.com/us/audiobook/harry-potter-and-the-goblet-of-fire/id1442185541?uo=4',\n",
       "   'artworkUrl60': 'https://is4-ssl.mzstatic.com/image/thumb/Music123/v4/ad/a7/46/ada74698-0504-5e50-d68a-96fbd18433ae/9781781102664.jpg/60x60bb.jpg',\n",
       "   'artworkUrl100': 'https://is4-ssl.mzstatic.com/image/thumb/Music123/v4/ad/a7/46/ada74698-0504-5e50-d68a-96fbd18433ae/9781781102664.jpg/100x100bb.jpg',\n",
       "   'collectionPrice': 39.99,\n",
       "   'collectionExplicitness': 'notExplicit',\n",
       "   'trackCount': 1,\n",
       "   'country': 'USA',\n",
       "   'currency': 'USD',\n",
       "   'releaseDate': '2015-11-20T08:00:00Z',\n",
       "   'primaryGenreName': 'Fiction',\n",
       "   'previewUrl': 'https://audio-ssl.itunes.apple.com/itunes-assets/AudioPreview113/v4/d9/ee/ae/d9eeae49-3999-004b-c6a6-ad584fd1ea94/mzaf_4750102658759024731.std.aac.p.m4a',\n",
       "   'description': \"<i>'There will be three tasks, spaced throughout the school year, and they will test the champions in many different ways ... their magical prowess - their daring - their powers of deduction - and, of course, their ability to cope with danger.'<br /></i><br />The Triwizard Tournament is to be held at Hogwarts. Only wizards who are over seventeen are allowed to enter - but that doesn't stop Harry dreaming that he will win the competition. Then at Hallowe'en, when the Goblet of Fire makes its selection, Harry is amazed to find his name is one of those that the magical cup picks out. He will face death-defying tasks, dragons and Dark wizards, but with the help of his best friends, Ron and Hermione, he might just make it through - alive!\"},\n",
       "  {'wrapperType': 'audiobook',\n",
       "   'artistId': 79595314,\n",
       "   'collectionId': 1442759222,\n",
       "   'artistName': 'J.K. Rowling',\n",
       "   'collectionName': 'Harry Potter and the Order of the Phoenix',\n",
       "   'collectionCensoredName': 'Harry Potter and the Order of the Phoenix',\n",
       "   'artistViewUrl': 'https://books.apple.com/us/author/j-k-rowling/id79595314?uo=4',\n",
       "   'collectionViewUrl': 'https://books.apple.com/us/audiobook/harry-potter-and-the-order-of-the-phoenix/id1442759222?uo=4',\n",
       "   'artworkUrl60': 'https://is4-ssl.mzstatic.com/image/thumb/Music113/v4/7e/ba/89/7eba898e-131c-8112-63a2-11f8073f39a7/9781781102671.jpg/60x60bb.jpg',\n",
       "   'artworkUrl100': 'https://is4-ssl.mzstatic.com/image/thumb/Music113/v4/7e/ba/89/7eba898e-131c-8112-63a2-11f8073f39a7/9781781102671.jpg/100x100bb.jpg',\n",
       "   'collectionPrice': 39.99,\n",
       "   'collectionExplicitness': 'notExplicit',\n",
       "   'trackCount': 1,\n",
       "   'country': 'USA',\n",
       "   'currency': 'USD',\n",
       "   'releaseDate': '2015-11-20T08:00:00Z',\n",
       "   'primaryGenreName': 'Fiction',\n",
       "   'previewUrl': 'https://audio-ssl.itunes.apple.com/itunes-assets/AudioPreview113/v4/ef/6d/66/ef6d6657-884a-0ee5-02bc-2d208243d3cb/mzaf_9497025834400356074.std.aac.p.m4a',\n",
       "   'description': \"<i>'You are sharing the Dark Lord's thoughts and emotions. The Headmaster thinks it inadvisable for this to continue. He wishes me to teach you how to close your mind to the Dark Lord.'</i><br /><br />Dark times have come to Hogwarts. After the Dementors' attack on his cousin Dudley, Harry Potter knows that Voldemort will stop at nothing to find him. There are many who deny the Dark Lord's return, but Harry is not alone: a secret order gathers at Grimmauld Place to fight against the Dark forces. Harry must allow Professor Snape to teach him how to protect himself from Voldemort's savage assaults on his mind. But they are growing stronger by the day and Harry is running out of time...\"},\n",
       "  {'wrapperType': 'audiobook',\n",
       "   'artistId': 79595314,\n",
       "   'collectionId': 1442233766,\n",
       "   'artistName': 'J.K. Rowling',\n",
       "   'collectionName': 'Harry Potter and the Half-Blood Prince',\n",
       "   'collectionCensoredName': 'Harry Potter and the Half-Blood Prince',\n",
       "   'artistViewUrl': 'https://books.apple.com/us/author/j-k-rowling/id79595314?uo=4',\n",
       "   'collectionViewUrl': 'https://books.apple.com/us/audiobook/harry-potter-and-the-half-blood-prince/id1442233766?uo=4',\n",
       "   'artworkUrl60': 'https://is3-ssl.mzstatic.com/image/thumb/Music113/v4/18/ac/bc/18acbcc7-550c-b870-8f94-2abadf99217e/9781781102688.jpg/60x60bb.jpg',\n",
       "   'artworkUrl100': 'https://is3-ssl.mzstatic.com/image/thumb/Music113/v4/18/ac/bc/18acbcc7-550c-b870-8f94-2abadf99217e/9781781102688.jpg/100x100bb.jpg',\n",
       "   'collectionPrice': 39.99,\n",
       "   'collectionExplicitness': 'notExplicit',\n",
       "   'trackCount': 1,\n",
       "   'country': 'USA',\n",
       "   'currency': 'USD',\n",
       "   'releaseDate': '2015-11-20T08:00:00Z',\n",
       "   'primaryGenreName': 'Fiction',\n",
       "   'previewUrl': 'https://audio-ssl.itunes.apple.com/itunes-assets/AudioPreview123/v4/dc/44/97/dc449764-6222-00b2-aa6b-3a6d7457373d/mzaf_12789146256780108026.std.aac.p.m4a',\n",
       "   'description': \"<i>There it was, hanging in the sky above the school: the blazing green skull with a serpent tongue, the mark Death Eaters left behind whenever they had entered a building... wherever they had murdered...</i><br /><br />When Dumbledore arrives at Privet Drive one summer night to collect Harry Potter, his wand hand is blackened and shrivelled, but he does not reveal why. Secrets and suspicion are spreading through the wizarding world, and Hogwarts itself is not safe. Harry is convinced that Malfoy bears the Dark Mark: there is a Death Eater amongst them. Harry will need powerful magic and true friends as he explores Voldemort's darkest secrets, and Dumbledore prepares him to face his destiny...\"},\n",
       "  {'wrapperType': 'audiobook',\n",
       "   'artistId': 79595314,\n",
       "   'collectionId': 1442175548,\n",
       "   'artistName': 'J.K. Rowling',\n",
       "   'collectionName': 'Harry Potter and the Deathly Hallows',\n",
       "   'collectionCensoredName': 'Harry Potter and the Deathly Hallows',\n",
       "   'artistViewUrl': 'https://books.apple.com/us/author/j-k-rowling/id79595314?uo=4',\n",
       "   'collectionViewUrl': 'https://books.apple.com/us/audiobook/harry-potter-and-the-deathly-hallows/id1442175548?uo=4',\n",
       "   'artworkUrl60': 'https://is2-ssl.mzstatic.com/image/thumb/Music123/v4/72/17/9c/72179cc9-18f3-8d35-bb3c-e998b02f3da8/9781781102695.jpg/60x60bb.jpg',\n",
       "   'artworkUrl100': 'https://is2-ssl.mzstatic.com/image/thumb/Music123/v4/72/17/9c/72179cc9-18f3-8d35-bb3c-e998b02f3da8/9781781102695.jpg/100x100bb.jpg',\n",
       "   'collectionPrice': 39.99,\n",
       "   'collectionExplicitness': 'notExplicit',\n",
       "   'trackCount': 1,\n",
       "   'country': 'USA',\n",
       "   'currency': 'USD',\n",
       "   'releaseDate': '2015-11-20T08:00:00Z',\n",
       "   'primaryGenreName': 'Fiction',\n",
       "   'previewUrl': 'https://audio-ssl.itunes.apple.com/itunes-assets/AudioPreview123/v4/81/0b/7f/810b7f05-49a5-7352-32eb-2ceb217d17fd/mzaf_18436999109443485062.std.aac.p.m4a',\n",
       "   'description': \"<i>'Give me Harry Potter,' said Voldemort's voice, 'and none shall be harmed.  Give me Harry Potter, and I shall leave the school untouched. Give me Harry Potter, and you will be rewarded.'</i><br /><br />As he climbs into the sidecar of Hagrid's motorbike and takes to the skies, leaving Privet Drive for the last time, Harry Potter knows that Lord Voldemort and the Death Eaters are not far behind. The protective charm that has kept Harry safe until now is broken, but he cannot keep hiding. The Dark Lord is breathing fear into everything Harry loves and to stop him Harry will have to find and destroy the remaining Horcruxes. The final battle must begin - Harry must stand and face his enemy...\"},\n",
       "  {'wrapperType': 'audiobook',\n",
       "   'artistId': 79595314,\n",
       "   'collectionId': 1461110353,\n",
       "   'artistName': 'J.K. Rowling',\n",
       "   'collectionName': 'Harry Potter y la piedra filosofal',\n",
       "   'collectionCensoredName': 'Harry Potter y la piedra filosofal',\n",
       "   'artistViewUrl': 'https://books.apple.com/us/author/j-k-rowling/id79595314?uo=4',\n",
       "   'collectionViewUrl': 'https://books.apple.com/us/audiobook/harry-potter-y-la-piedra-filosofal/id1461110353?uo=4',\n",
       "   'artworkUrl60': 'https://is3-ssl.mzstatic.com/image/thumb/Music113/v4/2c/b1/d6/2cb1d6f8-0737-f295-eb01-3eeb414b20f6/9781781105023.jpg/60x60bb.jpg',\n",
       "   'artworkUrl100': 'https://is3-ssl.mzstatic.com/image/thumb/Music113/v4/2c/b1/d6/2cb1d6f8-0737-f295-eb01-3eeb414b20f6/9781781105023.jpg/100x100bb.jpg',\n",
       "   'collectionPrice': 12.99,\n",
       "   'collectionExplicitness': 'notExplicit',\n",
       "   'trackCount': 1,\n",
       "   'country': 'USA',\n",
       "   'currency': 'USD',\n",
       "   'releaseDate': '2019-02-21T08:00:00Z',\n",
       "   'primaryGenreName': 'Fiction',\n",
       "   'previewUrl': 'https://audio-ssl.itunes.apple.com/itunes-assets/AudioPreview123/v4/5a/2b/b1/5a2bb1a3-9727-747f-403a-3fc5fd92c801/mzaf_10020675944957488295.std.aac.p.m4a',\n",
       "   'description': '<i>\"Con las manos temblorosas, Harry le dio la vuelta al sobre y vio un sello de lacre púrpura con un escudo de armas: un león, un águila, un tejón y una serpiente, que rodeaban una gran letra hache.\"</i><br /><br />Harry Potter jamás ha oído hablar de Hogwarts hasta que las cartas comienzan a llegar al número cuatro de Privet Drive, pero sus siniestros tíos se apropian rápidamente de estos pergaminos amarillentos que llevan la dirección escrita en tinta verde y un sello púrpura. Luego, en su undécimo cumpleaños, un gigantesco hombre con ojos como escarabajos llamado Rubeus Hagrid irrumpe con una noticia asombrosa: Harry Potter es un mago y lo esperan en el Colegio Hogwarts de Magia y Hechicería. ¡Una aventura increíble está por comenzar!<br /><br /><b>Please note: this audiobook is narrated in Spanish with a Latin American accent</b><br /><br /><i>Theme music composed by James Hannigan</i>'},\n",
       "  {'wrapperType': 'audiobook',\n",
       "   'artistId': 1436995508,\n",
       "   'collectionId': 1445698463,\n",
       "   'artistName': 'Pottermore Publishing & Ben Davies',\n",
       "   'collectionName': 'Harry Potter: A History of Magic',\n",
       "   'collectionCensoredName': 'Harry Potter: A History of Magic',\n",
       "   'artistViewUrl': 'https://books.apple.com/us/author/pottermore-publishing/id1436995508?uo=4',\n",
       "   'collectionViewUrl': 'https://books.apple.com/us/audiobook/harry-potter-a-history-of-magic/id1445698463?uo=4',\n",
       "   'artworkUrl60': 'https://is2-ssl.mzstatic.com/image/thumb/Music123/v4/c2/04/5d/c2045d9d-76c1-465c-1b02-9b4abf2e4887/9781781102862.jpg/60x60bb.jpg',\n",
       "   'artworkUrl100': 'https://is2-ssl.mzstatic.com/image/thumb/Music123/v4/c2/04/5d/c2045d9d-76c1-465c-1b02-9b4abf2e4887/9781781102862.jpg/100x100bb.jpg',\n",
       "   'collectionPrice': 25.99,\n",
       "   'collectionExplicitness': 'notExplicit',\n",
       "   'trackCount': 1,\n",
       "   'country': 'USA',\n",
       "   'currency': 'USD',\n",
       "   'releaseDate': '2018-10-04T07:00:00Z',\n",
       "   'primaryGenreName': 'Self-Development',\n",
       "   'previewUrl': 'https://audio-ssl.itunes.apple.com/itunes-assets/AudioPreview113/v4/14/65/be/1465be51-5ad1-369e-3273-e4938e8bb1fd/mzaf_8016893994331389242.std.aac.p.m4a',\n",
       "   'description': \"<i>The history of magic is as long as time and as wide as the world. In every culture, in every age, in every place and, probably, in every heart, there is magic.</i><br /><i><br />Harry Potter: A History of Magic</i> reveals some of the hidden stories behind real-world magic and explores some of J.K. Rowling's magical inventions alongside their folkloric, cultural and historical forebears.<br /><br />Narrator Natalie Dormer and a host of experts will take you on an audio journey like no other; from ancient China, to a 14th century apothecary's shop, on to the Salem witch trials and beyond. They delve into a rich body of writings about magic and explore intriguing artefacts to bring to life deep-rooted ideas of mysticism from around the world.<br /><br />Along the way, you can listen for handy tips on how to capture a basilisk, make yourself invisible or create your very own philosopher's stone. You'll hear about the dozens of drafts and drawings that went into J.K. Rowling's writing process and enjoy exclusive interviews with Jim Dale, Stephen Fry and illustrator Jim Kay, who all share their experiences of working on these incredible stories.<br /><br />The extraordinary and thought-provoking tales in this audiobook are perfect for anyone who wants to know a little more about magic and the wizarding world.<br /><br /><i>Music composed by Patrick Neil Doyle</i><br /><i>Sound effects licensed from ProSound Effects</i>\"},\n",
       "  {'wrapperType': 'audiobook',\n",
       "   'artistId': 79595314,\n",
       "   'collectionId': 1442130738,\n",
       "   'artistName': 'J.K. Rowling',\n",
       "   'collectionName': \"Harry Potter à L'école des Sorciers\",\n",
       "   'collectionCensoredName': \"Harry Potter à L'école des Sorciers\",\n",
       "   'artistViewUrl': 'https://books.apple.com/us/author/j-k-rowling/id79595314?uo=4',\n",
       "   'collectionViewUrl': 'https://books.apple.com/us/audiobook/harry-potter-%C3%A0-l%C3%A9cole-des-sorciers/id1442130738?uo=4',\n",
       "   'artworkUrl60': 'https://is5-ssl.mzstatic.com/image/thumb/Music123/v4/d2/7c/65/d27c6547-da5c-80dd-2693-82afc3745b67/9781781108765.jpg/60x60bb.jpg',\n",
       "   'artworkUrl100': 'https://is5-ssl.mzstatic.com/image/thumb/Music123/v4/d2/7c/65/d27c6547-da5c-80dd-2693-82afc3745b67/9781781108765.jpg/100x100bb.jpg',\n",
       "   'collectionPrice': 12.99,\n",
       "   'collectionExplicitness': 'notExplicit',\n",
       "   'trackCount': 1,\n",
       "   'country': 'USA',\n",
       "   'currency': 'USD',\n",
       "   'releaseDate': '2017-05-11T07:00:00Z',\n",
       "   'primaryGenreName': 'Fiction',\n",
       "   'previewUrl': 'https://audio-ssl.itunes.apple.com/itunes-assets/AudioPreview123/v4/13/d9/0d/13d90d30-2889-368e-4097-0a9d8e852789/mzaf_12442043797998992406.std.aac.p.m4a',\n",
       "   'description': \"Le jour de ses onze ans, Harry Potter, un orphelin élevé par un oncle et une tante qui le détestent, voit son existence bouleversée. Un géant vient le chercher pour l'emmener à Poudlard, une école de sorcellerie! Voler en balai, jeter des sorts, combattre les trolls : Harry Potter se révèle un sorcier doué. Mais un mystère entoure sa naissance et l'effroyable V..., le mage dont personne n'ose prononcer le nom. Amitié, surprises, dangers, scènes comiques, Harry découvre ses pouvoirs et la vie à Poudlard. Le premier tome des aventures du jeune héros vous ensorcelle aussitôt!<br /><br /><i>Thème principal composé par James Hannigan</i>\"},\n",
       "  {'wrapperType': 'audiobook',\n",
       "   'artistId': 79595314,\n",
       "   'collectionId': 1441976204,\n",
       "   'artistName': 'J.K. Rowling',\n",
       "   'collectionName': 'Harry Potter en de Gevangene van Azkaban',\n",
       "   'collectionCensoredName': 'Harry Potter en de Gevangene van Azkaban',\n",
       "   'artistViewUrl': 'https://books.apple.com/us/author/j-k-rowling/id79595314?uo=4',\n",
       "   'collectionViewUrl': 'https://books.apple.com/us/audiobook/harry-potter-en-de-gevangene-van-azkaban/id1441976204?uo=4',\n",
       "   'artworkUrl60': 'https://is2-ssl.mzstatic.com/image/thumb/Music123/v4/15/48/e0/1548e0c6-25a6-f0e0-5c77-a30ba112ef96/9781781108055.jpg/60x60bb.jpg',\n",
       "   'artworkUrl100': 'https://is2-ssl.mzstatic.com/image/thumb/Music123/v4/15/48/e0/1548e0c6-25a6-f0e0-5c77-a30ba112ef96/9781781108055.jpg/100x100bb.jpg',\n",
       "   'collectionPrice': 12.99,\n",
       "   'collectionExplicitness': 'notExplicit',\n",
       "   'trackCount': 1,\n",
       "   'country': 'USA',\n",
       "   'currency': 'USD',\n",
       "   'releaseDate': '2017-04-05T07:00:00Z',\n",
       "   'primaryGenreName': 'Fiction',\n",
       "   'previewUrl': 'https://audio-ssl.itunes.apple.com/itunes-assets/AudioPreview113/v4/ae/39/5b/ae395bb4-7f6d-f0ae-04de-8e4af5bf09b2/mzaf_14433670897126121481.std.aac.p.m4a',\n",
       "   'description': 'Dit is de editie uit 2001 van <i>Harry Potter en de Gevangene van Azkaban</i>, voorgelezen door Jan Meng. <br /><br /><i>\"Welkom in de Collectebus, het noodvervoer voor de gestrande heks of tovenaar. Steek uw toverstokhand uit, stap in en wij brengen u naar uw bestemming.\"</i><br /><br />Wanneer de Collectebus uit het duister komt en met piepende remmen voor hem tot stilstand komt, is het voor Harry Potter het begin van wederom een ongewoon jaar op Zweinstein. Sirius Zwarts, ontsnapte moordenaar en volgeling van Heer Voldemort, is op de vlucht, en ze zeggen dat hij jacht maakt op Harry. In zijn eerste les Waarzeggerij ziet professor Zwamdrift een voorteken van de dood in Harry\\'s droesem... Maar enger nog zijn de Dementors met hun zielzuigende kus die rond de school patrouilleren...<br /><br />Jan Meng is een bekroond voorlezer van vele succesvolle luisterboeken, waaronder <i>In de ban van de ring</i>, <i>Winnie de Poeh</i> en de oorspronkelijke Nederlandse opnames van de <i>Harry Potter</i>-serie.<br /><br /><i>Titelmuziek gecomponeerd door James Hannigan.</i>'},\n",
       "  {'wrapperType': 'audiobook',\n",
       "   'artistId': 79595314,\n",
       "   'collectionId': 1461111274,\n",
       "   'artistName': 'J.K. Rowling',\n",
       "   'collectionName': 'Harry Potter y la cámara secreta',\n",
       "   'collectionCensoredName': 'Harry Potter y la cámara secreta',\n",
       "   'artistViewUrl': 'https://books.apple.com/us/author/j-k-rowling/id79595314?uo=4',\n",
       "   'collectionViewUrl': 'https://books.apple.com/us/audiobook/harry-potter-y-la-c%C3%A1mara-secreta/id1461111274?uo=4',\n",
       "   'artworkUrl60': 'https://is2-ssl.mzstatic.com/image/thumb/Music123/v4/f6/73/c4/f673c494-2e87-0af5-4f6c-a0eba80c6f1c/9781781105030.jpg/60x60bb.jpg',\n",
       "   'artworkUrl100': 'https://is2-ssl.mzstatic.com/image/thumb/Music123/v4/f6/73/c4/f673c494-2e87-0af5-4f6c-a0eba80c6f1c/9781781105030.jpg/100x100bb.jpg',\n",
       "   'collectionPrice': 12.99,\n",
       "   'collectionExplicitness': 'notExplicit',\n",
       "   'trackCount': 1,\n",
       "   'country': 'USA',\n",
       "   'currency': 'USD',\n",
       "   'releaseDate': '2019-03-19T07:00:00Z',\n",
       "   'primaryGenreName': 'Fiction',\n",
       "   'previewUrl': 'https://audio-ssl.itunes.apple.com/itunes-assets/AudioPreview113/v4/30/d0/59/30d059b3-3070-b91f-1afa-5e966c78b4f2/mzaf_6276969065063493566.std.aac.p.m4a',\n",
       "   'description': '<i>\"Hay una conspiración, Harry Potter. Una conspiración para hacer que este año sucedan las cosas más terribles en el Colegio Hogwarts de Magia y Hechicería.\" </i><br /><br />El verano de Harry Potter incluyó el peor cumpleaños de todos los tiempos, las inquietantes advertencias de un elfo doméstico llamado Dobby, ¡y el rescate de las garras de los Dursley gracias a su amigo Ron Weasley en un automóvil volador mágico! En este segundo año, de vuelta en el Colegio Hogwarts de Magia y Hechicería, Harry escucha unos extraños ecos de susurros en los pasillos vacíos, y es así como los ataques empiezan. Algunos estudiantes aparecerán convertidos en piedra... Las siniestras predicciones de Dobby parecen hacerse realidad.<br /><br /><b>Please note: this audiobook is narrated in Spanish with a Latin American accent</b><br /><br /><i>Theme music composed by James Hannigan</i>'},\n",
       "  {'wrapperType': 'audiobook',\n",
       "   'artistId': 79595314,\n",
       "   'collectionId': 1442172996,\n",
       "   'artistName': 'J.K. Rowling',\n",
       "   'collectionName': 'Harry Potter und der Stein der Weisen',\n",
       "   'collectionCensoredName': 'Harry Potter und der Stein der Weisen',\n",
       "   'artistViewUrl': 'https://books.apple.com/us/author/j-k-rowling/id79595314?uo=4',\n",
       "   'collectionViewUrl': 'https://books.apple.com/us/audiobook/harry-potter-und-der-stein-der-weisen/id1442172996?uo=4',\n",
       "   'artworkUrl60': 'https://is4-ssl.mzstatic.com/image/thumb/Music113/v4/91/1f/9d/911f9df3-38e2-7578-1d12-f6189e2133ea/9781781102909.jpg/60x60bb.jpg',\n",
       "   'artworkUrl100': 'https://is4-ssl.mzstatic.com/image/thumb/Music113/v4/91/1f/9d/911f9df3-38e2-7578-1d12-f6189e2133ea/9781781102909.jpg/100x100bb.jpg',\n",
       "   'collectionPrice': 12.99,\n",
       "   'collectionExplicitness': 'notExplicit',\n",
       "   'trackCount': 1,\n",
       "   'country': 'USA',\n",
       "   'currency': 'USD',\n",
       "   'releaseDate': '2015-11-20T08:00:00Z',\n",
       "   'primaryGenreName': 'Fiction',\n",
       "   'previewUrl': 'https://audio-ssl.itunes.apple.com/itunes-assets/AudioPreview113/v4/d9/06/51/d9065123-9991-f636-b949-152a61fa8905/mzaf_15895065747913286210.std.aac.p.m4a',\n",
       "   'description': 'Eigentlich hatte Harry geglaubt, er sei ein ganz normaler Junge. Zumindest bis zu seinem elften Geburtstag. Da erfährt er, dass er sich an der Schule für Hexerei und Zauberei einfinden soll. Und warum? Weil Harry ein Zauberer ist. Und so wird für Harry das erste Jahr in der Schule das spannendste, aufregendste und lustigste in seinem Leben. Er stürzt von einem Abenteuer in die nächste ungeheuerliche Geschichte, muss gegen Bestien, Mitschüler und Fabelwesen kämpfen. Da ist es gut, dass er schon Freunde gefunden hat, die ihm im Kampf gegen die dunklen Mächte zur Seite stehen.<br /><br /><i>Titelmusik komponiert von James Hannigan</i>'},\n",
       "  {'wrapperType': 'audiobook',\n",
       "   'artistId': 79595314,\n",
       "   'collectionId': 1442082219,\n",
       "   'artistName': 'J.K. Rowling',\n",
       "   'collectionName': 'Harry Potter et la Chambre des Secrets',\n",
       "   'collectionCensoredName': 'Harry Potter et la Chambre des Secrets',\n",
       "   'artistViewUrl': 'https://books.apple.com/us/author/j-k-rowling/id79595314?uo=4',\n",
       "   'collectionViewUrl': 'https://books.apple.com/us/audiobook/harry-potter-et-la-chambre-des-secrets/id1442082219?uo=4',\n",
       "   'artworkUrl60': 'https://is2-ssl.mzstatic.com/image/thumb/Music123/v4/b6/82/74/b682742f-0260-64af-bd7e-2f91da241659/9781781108772.jpg/60x60bb.jpg',\n",
       "   'artworkUrl100': 'https://is2-ssl.mzstatic.com/image/thumb/Music123/v4/b6/82/74/b682742f-0260-64af-bd7e-2f91da241659/9781781108772.jpg/100x100bb.jpg',\n",
       "   'collectionPrice': 12.99,\n",
       "   'collectionExplicitness': 'notExplicit',\n",
       "   'trackCount': 1,\n",
       "   'country': 'USA',\n",
       "   'currency': 'USD',\n",
       "   'releaseDate': '2017-05-11T07:00:00Z',\n",
       "   'primaryGenreName': 'Fiction',\n",
       "   'previewUrl': 'https://audio-ssl.itunes.apple.com/itunes-assets/AudioPreview123/v4/7c/51/61/7c51614b-42a6-402c-bf8c-80a027aef5c2/mzaf_9094782151600882943.std.aac.p.m4a',\n",
       "   'description': \"Une rentrée fracassante en voiture volante, une étrange malédiction qui s'abat sur les élèves, cette deuxième année à l'école des sorciers ne s'annonce pas de tout repos! Entre les cours de potions magiques, les matches de Quidditch et les combats de mauvais sorts, Harry et ses amis Ron et Hermione trouveront-ils le temps de percer le mystère de la Chambre des Secrets? Le deuxiè me volume des aventures de Harry Potter : un livre magique pour sorciers confirmés.<br /><br /><i>Thème principal composé par James Hannigan</i>\"},\n",
       "  {'wrapperType': 'audiobook',\n",
       "   'artistId': 79595314,\n",
       "   'collectionId': 1442079902,\n",
       "   'artistName': 'J.K. Rowling',\n",
       "   'collectionName': 'Harry Potter und der Gefangene von Askaban',\n",
       "   'collectionCensoredName': 'Harry Potter und der Gefangene von Askaban',\n",
       "   'artistViewUrl': 'https://books.apple.com/us/author/j-k-rowling/id79595314?uo=4',\n",
       "   'collectionViewUrl': 'https://books.apple.com/us/audiobook/harry-potter-und-der-gefangene-von-askaban/id1442079902?uo=4',\n",
       "   'artworkUrl60': 'https://is3-ssl.mzstatic.com/image/thumb/Music123/v4/b2/21/8b/b2218b52-08f9-1dc8-cded-002b3d5de2eb/9781781107980.jpg/60x60bb.jpg',\n",
       "   'artworkUrl100': 'https://is3-ssl.mzstatic.com/image/thumb/Music123/v4/b2/21/8b/b2218b52-08f9-1dc8-cded-002b3d5de2eb/9781781107980.jpg/100x100bb.jpg',\n",
       "   'collectionPrice': 12.99,\n",
       "   'collectionExplicitness': 'notExplicit',\n",
       "   'trackCount': 1,\n",
       "   'country': 'USA',\n",
       "   'currency': 'USD',\n",
       "   'releaseDate': '2016-10-04T07:00:00Z',\n",
       "   'primaryGenreName': 'Fiction',\n",
       "   'previewUrl': 'https://audio-ssl.itunes.apple.com/itunes-assets/AudioPreview123/v4/89/3f/c4/893fc402-f77d-c3da-d0f4-f458b0250322/mzaf_13719171398812268720.std.aac.p.m4a',\n",
       "   'description': 'Rufus Beck liest Band 3 von Harry Potter. Natürlich weiß Harry, dass das Zaubern in den Ferien strengstens verboten ist, und trotzdem befördert er seine schreckliche Tante mit einem Schwebezauber an die Decke. Die Konsequenz ist normalerweise: Schulverweis! Nicht so bei Harry; im Gegenteil, man behandelt ihn wie in rohes Ei. Hat es etwa damit zu tun, dass ein gefürchteter Verbrecher in die Schule eingedrungen ist und es auf Harry abgesehen hat? Mit seinen Freunden Ron und Hermine versucht Harry ein Geflecht aus Verrat, Rache, Feigheit und Verleumdung aufzudröseln und stößt dabei auf Dinge, die ihn fast an seinem Verstand zweifeln lassen.<br /><br /><i>Titelmusik komponiert von James Hannigan</i>'},\n",
       "  {'wrapperType': 'audiobook',\n",
       "   'artistId': 79595314,\n",
       "   'collectionId': 1442171749,\n",
       "   'artistName': 'J.K. Rowling',\n",
       "   'collectionName': 'Harry Potter et le Prince de Sang-Mêlé',\n",
       "   'collectionCensoredName': 'Harry Potter et le Prince de Sang-Mêlé',\n",
       "   'artistViewUrl': 'https://books.apple.com/us/author/j-k-rowling/id79595314?uo=4',\n",
       "   'collectionViewUrl': 'https://books.apple.com/us/audiobook/harry-potter-et-le-prince-de-sang-m%C3%AAl%C3%A9/id1442171749?uo=4',\n",
       "   'artworkUrl60': 'https://is5-ssl.mzstatic.com/image/thumb/Music113/v4/c3/a8/be/c3a8be6a-f2e3-5a3d-d603-19f6c7adc4d9/9781781108819.jpg/60x60bb.jpg',\n",
       "   'artworkUrl100': 'https://is5-ssl.mzstatic.com/image/thumb/Music113/v4/c3/a8/be/c3a8be6a-f2e3-5a3d-d603-19f6c7adc4d9/9781781108819.jpg/100x100bb.jpg',\n",
       "   'collectionPrice': 39.99,\n",
       "   'collectionExplicitness': 'notExplicit',\n",
       "   'trackCount': 1,\n",
       "   'country': 'USA',\n",
       "   'currency': 'USD',\n",
       "   'releaseDate': '2017-05-11T07:00:00Z',\n",
       "   'primaryGenreName': 'Fiction',\n",
       "   'previewUrl': 'https://audio-ssl.itunes.apple.com/itunes-assets/AudioPreview123/v4/c8/2a/54/c82a54c4-8df4-7a11-d4d0-3e8a10c17524/mzaf_15691103852788873435.std.aac.p.m4a',\n",
       "   'description': \"Dans un monde de plus en plus inquiétant, Harry se prépare à retrouver Ron et Hermione. Bientôt, ce sera la rentrée à Poudlard, avec les autres étudiants de sixième année. Mais pourquoi Dumbledore vient il en personne chercher Harry chez les Dursley? Dans quels extraordinaires voyages au coeur de la mémoire va-t-il l'entraîner? Émotion, humour, art du suspense... J.K. Rowling révèle dans ce sixième tome la fascinante complexité de l'univers qu'elle a créé, et met en place tous les ressorts du dénouement.<br /><br /><i>Thème principal composé par James Hannigan</i>\"},\n",
       "  {'wrapperType': 'audiobook',\n",
       "   'artistId': 79595314,\n",
       "   'collectionId': 1442189567,\n",
       "   'artistName': 'J.K. Rowling',\n",
       "   'collectionName': 'Harry Potter und der Stein der Weisen',\n",
       "   'collectionCensoredName': 'Harry Potter und der Stein der Weisen',\n",
       "   'artistViewUrl': 'https://books.apple.com/us/author/j-k-rowling/id79595314?uo=4',\n",
       "   'collectionViewUrl': 'https://books.apple.com/us/audiobook/harry-potter-und-der-stein-der-weisen/id1442189567?uo=4',\n",
       "   'artworkUrl60': 'https://is1-ssl.mzstatic.com/image/thumb/Music113/v4/1a/2d/4c/1a2d4c64-996d-eabd-0192-6b5cfc27347a/9781781107966.jpg/60x60bb.jpg',\n",
       "   'artworkUrl100': 'https://is1-ssl.mzstatic.com/image/thumb/Music113/v4/1a/2d/4c/1a2d4c64-996d-eabd-0192-6b5cfc27347a/9781781107966.jpg/100x100bb.jpg',\n",
       "   'collectionPrice': 12.99,\n",
       "   'collectionExplicitness': 'notExplicit',\n",
       "   'trackCount': 1,\n",
       "   'country': 'USA',\n",
       "   'currency': 'USD',\n",
       "   'releaseDate': '2016-10-04T07:00:00Z',\n",
       "   'primaryGenreName': 'Fiction',\n",
       "   'previewUrl': 'https://audio-ssl.itunes.apple.com/itunes-assets/AudioPreview123/v4/15/83/85/158385b6-8e09-d6bb-efae-63b67fff3061/mzaf_6771545750884630764.std.aac.p.m4a',\n",
       "   'description': 'Rufus Beck liest Band 1 von Harry Potter. Eigentlich hatte Harry geglaubt, er sei ein ganz normaler Junge. Zumindest bis zu seinem elften Geburtstag. Da erfährt er, dass er sich an der Schule für Hexerei und Zauberei einfinden soll. Und warum? Weil Harry ein Zauberer ist. Und so wird für Harry das erste Jahr in der Schule das spannendste, aufregendste und lustigste in seinem Leben. Er stürzt von einem Abenteuer in die nächste ungeheuerliche Geschichte, muss gegen Bestien, Mitschüler und Fabelwesen kämpfen. Da ist es gut, dass er schon Freunde gefunden hat, die ihm im Kampf gegen die dunklen Mächte zur Seite stehen.<br /><br /><i>Titelmusik komponiert von James Hannigan</i>'},\n",
       "  {'wrapperType': 'audiobook',\n",
       "   'artistId': 79595314,\n",
       "   'collectionId': 1464098935,\n",
       "   'artistName': 'J.K. Rowling',\n",
       "   'collectionName': 'Harry Potter y el prisionero de Azkaban',\n",
       "   'collectionCensoredName': 'Harry Potter y el prisionero de Azkaban',\n",
       "   'artistViewUrl': 'https://books.apple.com/us/author/j-k-rowling/id79595314?uo=4',\n",
       "   'collectionViewUrl': 'https://books.apple.com/us/audiobook/harry-potter-y-el-prisionero-de-azkaban/id1464098935?uo=4',\n",
       "   'artworkUrl60': 'https://is5-ssl.mzstatic.com/image/thumb/Music123/v4/00/6d/a1/006da1e5-5dea-0e83-ec14-9c94cbfdc167/9781781105047.jpg/60x60bb.jpg',\n",
       "   'artworkUrl100': 'https://is5-ssl.mzstatic.com/image/thumb/Music123/v4/00/6d/a1/006da1e5-5dea-0e83-ec14-9c94cbfdc167/9781781105047.jpg/100x100bb.jpg',\n",
       "   'collectionPrice': 12.99,\n",
       "   'collectionExplicitness': 'notExplicit',\n",
       "   'trackCount': 1,\n",
       "   'country': 'USA',\n",
       "   'currency': 'USD',\n",
       "   'releaseDate': '2019-04-16T07:00:00Z',\n",
       "   'primaryGenreName': 'Fiction',\n",
       "   'previewUrl': 'https://audio-ssl.itunes.apple.com/itunes-assets/AudioPreview123/v4/7d/ba/8b/7dba8bf4-2f03-49fa-a4e1-d16f38bcb55c/mzaf_12663869058465966409.std.aac.p.m4a',\n",
       "   'description': '<i>\"Bienvenido al autobús noctámbulo, transporte de emergencia para el brujo abandonado a su suerte. Alargue la varita, suba a bordo y lo llevaremos a donde quiera.\"</i><br /><br />Cuando el autobús noctámbulo aparece en medio de la oscuridad y se detiene frente a Harry Potter, marca el inicio de otro año fuera de lo común para el joven mago. Sirius Black, asesino en serie y seguidor de Lord Voldemort, está prófugo y los rumores dicen que viene por Harry. En su primera clase de adivinación, la profesora Trelawney ve un presagio de muerte en las hojas de té de Harry... Pero quizás lo más aterrador de todo es que los Dementores patrullan los terrenos de la escuela, con su beso que succiona el alma...<br /><br /><b>Please note: this audiobook is narrated in Spanish with a Latin American accent</b><br /><br /><i>Theme music composed by James Hannigan</i>'},\n",
       "  {'wrapperType': 'audiobook',\n",
       "   'artistId': 79595314,\n",
       "   'collectionId': 1442123753,\n",
       "   'artistName': 'J.K. Rowling',\n",
       "   'collectionName': 'Harry Potter und die Kammer des Schreckens',\n",
       "   'collectionCensoredName': 'Harry Potter und die Kammer des Schreckens',\n",
       "   'artistViewUrl': 'https://books.apple.com/us/author/j-k-rowling/id79595314?uo=4',\n",
       "   'collectionViewUrl': 'https://books.apple.com/us/audiobook/harry-potter-und-die-kammer-des-schreckens/id1442123753?uo=4',\n",
       "   'artworkUrl60': 'https://is4-ssl.mzstatic.com/image/thumb/Music113/v4/ec/29/16/ec2916d0-cef4-9977-2eb7-51d498e069fb/dj.ihknlnxv.jpg/60x60bb.jpg',\n",
       "   'artworkUrl100': 'https://is4-ssl.mzstatic.com/image/thumb/Music113/v4/ec/29/16/ec2916d0-cef4-9977-2eb7-51d498e069fb/dj.ihknlnxv.jpg/100x100bb.jpg',\n",
       "   'collectionPrice': 12.99,\n",
       "   'collectionExplicitness': 'notExplicit',\n",
       "   'trackCount': 1,\n",
       "   'country': 'USA',\n",
       "   'currency': 'USD',\n",
       "   'releaseDate': '2016-10-04T07:00:00Z',\n",
       "   'primaryGenreName': 'Fiction',\n",
       "   'previewUrl': 'https://audio-ssl.itunes.apple.com/itunes-assets/AudioPreview113/v4/ec/a5/25/eca5259c-094c-5307-f4ce-801474d61198/mzaf_14652576427629791418.std.aac.p.m4a',\n",
       "   'description': 'Rufus Beck liest Band 2 von Harry Potter. Endlich wieder Schule!!! Einen solchen Seufzer kann nur der ausstoßen, dessen Ferien scheußlich und die Erinnerung an das vergangene Schuljahr wunderbar waren: Harry Potter. Doch wie im Vorjahr stehen nicht nur Zaubertrankunterricht und Verwandlung auf dem Programm. Ein grauenhaftes Etwas treibt sein Unwesen in den Gemäuern der Schule - ein Ungeheuer, für das nicht einmal die mächtigsten Zauberer eine Erklärung finden. Wird Harry mit Hilfe seiner Freunde Ron und Hermine das Rätsel lösen und Hogwarts von den dunklen Mächten befreien können?<br /><br /><i>Titelmusik komponiert von James Hannigan</i>'},\n",
       "  {'wrapperType': 'audiobook',\n",
       "   'artistId': 79595314,\n",
       "   'collectionId': 1442071857,\n",
       "   'artistName': 'J.K. Rowling',\n",
       "   'collectionName': \"Harry Potter et le Prisonnier d'Azkaban\",\n",
       "   'collectionCensoredName': \"Harry Potter et le Prisonnier d'Azkaban\",\n",
       "   'artistViewUrl': 'https://books.apple.com/us/author/j-k-rowling/id79595314?uo=4',\n",
       "   'collectionViewUrl': 'https://books.apple.com/us/audiobook/harry-potter-et-le-prisonnier-dazkaban/id1442071857?uo=4',\n",
       "   'artworkUrl60': 'https://is2-ssl.mzstatic.com/image/thumb/Music113/v4/07/ff/1d/07ff1d4b-84ff-093a-e69e-0590e7f36993/9781781108789.jpg/60x60bb.jpg',\n",
       "   'artworkUrl100': 'https://is2-ssl.mzstatic.com/image/thumb/Music113/v4/07/ff/1d/07ff1d4b-84ff-093a-e69e-0590e7f36993/9781781108789.jpg/100x100bb.jpg',\n",
       "   'collectionPrice': 12.99,\n",
       "   'collectionExplicitness': 'notExplicit',\n",
       "   'trackCount': 1,\n",
       "   'country': 'USA',\n",
       "   'currency': 'USD',\n",
       "   'releaseDate': '2017-05-11T07:00:00Z',\n",
       "   'primaryGenreName': 'Fiction',\n",
       "   'previewUrl': 'https://audio-ssl.itunes.apple.com/itunes-assets/AudioPreview113/v4/d6/27/65/d6276575-5b39-2ef6-83e2-b722d2844779/mzaf_14542247891424689670.std.aac.p.m4a',\n",
       "   'description': \"Sirius Black, le dangereux criminel qui s'est échappé de la forteresse d'Azkaban, recherche Harry Potter. C'est donc sous bonne garde que l'apprenti sorcier fait sa troisième rentrée. Au programme : des cours de divination, la fabrication d'une potion de Ratatinage, le dressage des hippogriffes... Mais Harry est-il vraiment à l'abri du danger qui le menace? Le troisième tome des aventures de Harry Potter vous emportera dans un tourbillon de surprises et d'émotions. Frissons et humour garantis!<br /><br /><i>Thème principal composé par James Hannigan</i>\"},\n",
       "  {'wrapperType': 'audiobook',\n",
       "   'artistId': 79595314,\n",
       "   'collectionId': 1445540959,\n",
       "   'artistName': 'J.K. Rowling',\n",
       "   'collectionName': 'Harry Potter og Fønixordenen',\n",
       "   'collectionCensoredName': 'Harry Potter og Fønixordenen',\n",
       "   'artistViewUrl': 'https://books.apple.com/us/author/j-k-rowling/id79595314?uo=4',\n",
       "   'collectionViewUrl': 'https://books.apple.com/us/audiobook/harry-potter-og-f%C3%B8nixordenen/id1445540959?uo=4',\n",
       "   'artworkUrl60': 'https://is5-ssl.mzstatic.com/image/thumb/Music123/v4/cb/53/0d/cb530d99-296a-da4f-dc6c-95440fd71b40/9781781108147.jpg/60x60bb.jpg',\n",
       "   'artworkUrl100': 'https://is5-ssl.mzstatic.com/image/thumb/Music123/v4/cb/53/0d/cb530d99-296a-da4f-dc6c-95440fd71b40/9781781108147.jpg/100x100bb.jpg',\n",
       "   'collectionPrice': 39.99,\n",
       "   'collectionExplicitness': 'notExplicit',\n",
       "   'trackCount': 1,\n",
       "   'country': 'USA',\n",
       "   'currency': 'USD',\n",
       "   'releaseDate': '2017-05-03T07:00:00Z',\n",
       "   'primaryGenreName': 'Fiction',\n",
       "   'previewUrl': 'https://audio-ssl.itunes.apple.com/itunes-assets/AudioPreview113/v4/cb/a3/fd/cba3fd6e-5e17-6b82-c856-853d05a9b134/mzaf_4484505105499939711.std.aac.p.m4a',\n",
       "   'description': 'Harry Potter er desperat efter at komme tilbage til Hogwarts og finde ud af, hvorfor Ron og Hermione har været så hemmelighedsfulde hele sommeren. Men det femte år på Hogwarts bliver hverken let eller behageligt for Harry. Ministeriet for Magi nægter at tro på Harrys og Dumbledores forsikringer om, at Voldemort er vendt tilbage. Ministeren sender en repræsentant til skolen, som skal sørge for at udbrede Ministeriets holdning og lukke munden på Harry - med alle midler. Og med katastrofale følger ...<br /><br /><i>Temamusik komponeret af James Hannigan</i>'},\n",
       "  {'wrapperType': 'audiobook',\n",
       "   'artistId': 79595314,\n",
       "   'collectionId': 1442754531,\n",
       "   'artistName': 'J.K. Rowling',\n",
       "   'collectionName': 'Harry Potter og Dødsregalierne',\n",
       "   'collectionCensoredName': 'Harry Potter og Dødsregalierne',\n",
       "   'artistViewUrl': 'https://books.apple.com/us/author/j-k-rowling/id79595314?uo=4',\n",
       "   'collectionViewUrl': 'https://books.apple.com/us/audiobook/harry-potter-og-d%C3%B8dsregalierne/id1442754531?uo=4',\n",
       "   'artworkUrl60': 'https://is1-ssl.mzstatic.com/image/thumb/Music123/v4/29/b3/01/29b301a5-bc61-9fd5-5008-2d747fe48968/9781781108161.jpg/60x60bb.jpg',\n",
       "   'artworkUrl100': 'https://is1-ssl.mzstatic.com/image/thumb/Music123/v4/29/b3/01/29b301a5-bc61-9fd5-5008-2d747fe48968/9781781108161.jpg/100x100bb.jpg',\n",
       "   'collectionPrice': 39.99,\n",
       "   'collectionExplicitness': 'notExplicit',\n",
       "   'trackCount': 1,\n",
       "   'country': 'USA',\n",
       "   'currency': 'USD',\n",
       "   'releaseDate': '2017-06-14T07:00:00Z',\n",
       "   'primaryGenreName': 'Fiction',\n",
       "   'previewUrl': 'https://audio-ssl.itunes.apple.com/itunes-assets/AudioPreview113/v4/e6/96/54/e6965476-9e4d-b62d-7b63-c80eed594e0c/mzaf_4008266306906714122.std.aac.p.m4a',\n",
       "   'description': 'Harry er blevet pålagt en dyster, farlig og tilsyneladende umulig opgave: Han skal finde og ødelægge Voldemorts tilbageværende Horcruxer. Sammen med Ron og Hermione begiver han sig ud på den håbløse jagt. Ingen af de tre har nogen anelse om, hvor de skal lede. Og de har ikke meget tid, for Voldemort leder også - efter Harry.<br /><br /><i>Temamusik komponeret af James Hannigan</i>'},\n",
       "  {'wrapperType': 'audiobook',\n",
       "   'artistId': 79595314,\n",
       "   'collectionId': 1442754831,\n",
       "   'artistName': 'J.K. Rowling',\n",
       "   'collectionName': 'Harry Potter og Halvblodsprinsen',\n",
       "   'collectionCensoredName': 'Harry Potter og Halvblodsprinsen',\n",
       "   'artistViewUrl': 'https://books.apple.com/us/author/j-k-rowling/id79595314?uo=4',\n",
       "   'collectionViewUrl': 'https://books.apple.com/us/audiobook/harry-potter-og-halvblodsprinsen/id1442754831?uo=4',\n",
       "   'artworkUrl60': 'https://is1-ssl.mzstatic.com/image/thumb/Music113/v4/50/42/26/5042265b-5a3c-c822-1170-70227f14c36b/9781781108154.jpg/60x60bb.jpg',\n",
       "   'artworkUrl100': 'https://is1-ssl.mzstatic.com/image/thumb/Music113/v4/50/42/26/5042265b-5a3c-c822-1170-70227f14c36b/9781781108154.jpg/100x100bb.jpg',\n",
       "   'collectionPrice': 39.99,\n",
       "   'collectionExplicitness': 'notExplicit',\n",
       "   'trackCount': 1,\n",
       "   'country': 'USA',\n",
       "   'currency': 'USD',\n",
       "   'releaseDate': '2017-05-24T07:00:00Z',\n",
       "   'primaryGenreName': 'Fiction',\n",
       "   'previewUrl': 'https://audio-ssl.itunes.apple.com/itunes-assets/AudioPreview123/v4/b3/d0/26/b3d026ef-68cd-f0e6-c7b9-4ad51e100657/mzaf_13513278902736770106.std.aac.p.m4a',\n",
       "   'description': 'Harry har tilbragt de første uger af sommerferien hos familien Dursley med at ligge på sin seng og stirre op i loftet. Han sørger over sin dræbte gudfar Sirius, mens han genoplever det grufulde opgør med Dødsgardisterne i Ministeriet for Magi og den sindsoprivende duel mellem Dumbledore og Lord Voldemort. Nu sidder han ved vinduet og venter på Dumbledore, der har meldt sin ankomst pr. uglepost. Langt om længe vil Dumbledore give svar på Harrys mange spørgsmål om sammenhængen mellem ham selv og Lord Voldemort. Harry glæder sig til at slippe væk fra Ligustervænget. Måske fordi han ikke ved, hvad der venter ham.<br /><br /><i>Temamusik komponeret af James Hannigan</i>'},\n",
       "  {'wrapperType': 'audiobook',\n",
       "   'artistId': 79595314,\n",
       "   'collectionId': 1514570077,\n",
       "   'artistName': 'J.K. Rowling',\n",
       "   'collectionName': 'Harry Potter y las Reliquias de la Muerte',\n",
       "   'collectionCensoredName': 'Harry Potter y las Reliquias de la Muerte',\n",
       "   'artistViewUrl': 'https://books.apple.com/us/author/j-k-rowling/id79595314?uo=4',\n",
       "   'collectionViewUrl': 'https://books.apple.com/us/audiobook/harry-potter-y-las-reliquias-de-la-muerte/id1514570077?uo=4',\n",
       "   'artworkUrl60': 'https://is3-ssl.mzstatic.com/image/thumb/Music123/v4/2b/09/42/2b0942a2-6b88-4357-9781-fcf6f2283ba3/9781781105085.jpg/60x60bb.jpg',\n",
       "   'artworkUrl100': 'https://is3-ssl.mzstatic.com/image/thumb/Music123/v4/2b/09/42/2b0942a2-6b88-4357-9781-fcf6f2283ba3/9781781105085.jpg/100x100bb.jpg',\n",
       "   'collectionPrice': 39.99,\n",
       "   'collectionExplicitness': 'notExplicit',\n",
       "   'trackCount': 1,\n",
       "   'country': 'USA',\n",
       "   'currency': 'USD',\n",
       "   'releaseDate': '2020-04-21T07:00:00Z',\n",
       "   'primaryGenreName': 'Fiction',\n",
       "   'previewUrl': 'https://audio-ssl.itunes.apple.com/itunes-assets/AudioPreview123/v4/4e/62/21/4e6221f7-99f3-8219-2e5c-d81b9c5c89cb/mzaf_3357860446047501274.std.aac.p.m4a',\n",
       "   'description': '<i>\"-Entréguenme a Harry Potter -dijo la voz de Voldemort- y nadie sufrirá ningún daño. Entréguenme a Harry Potter y dejaré el colegio intacto. Entréguenme a Harry Potter y serán recompensados.\"</i><br /><br />Mientras se sube al sidecar de la motocicleta de Hagrid y trepa a los cielos, dejando Privet Drive por última vez, Harry Potter sabe que Lord Voldemort y los mortífagos no están lejos. El encanto protector que ha mantenido a Harry a salvo hasta este momento se rompió, así que no puede seguir escondiéndose. El Señor Oscuro está inspirando miedo en todo lo que Harry ama y, para detenerlo, Harry tendrá que encontrar y destruir los Horrocruxes restantes. La batalla final debe comenzar; Harry debe enfrentar a su enemigo...<br /><br /><b>Please note: this audiobook is narrated in Spanish with a Latin American accent</b><br /><br /><i>Theme music composed by James Hannigan</i>'},\n",
       "  {'wrapperType': 'audiobook',\n",
       "   'artistId': 542196322,\n",
       "   'collectionId': 1456912805,\n",
       "   'artistName': 'Megan Parker',\n",
       "   'collectionName': '700+ Random Harry Potter Fun Facts and Trivia: Interesting Harry Potter Fun Facts and Trivia You Probably Don’t Know (Unabridged)',\n",
       "   'collectionCensoredName': '700+ Random Harry Potter Fun Facts and Trivia: Interesting Harry Potter Fun Facts and Trivia You Probably Don’t Know (Unabridged)',\n",
       "   'artistViewUrl': 'https://books.apple.com/us/author/megan-parker/id542196322?uo=4',\n",
       "   'collectionViewUrl': 'https://books.apple.com/us/audiobook/700-random-harry-potter-fun-facts-trivia-interesting/id1456912805?uo=4',\n",
       "   'artworkUrl60': 'https://is3-ssl.mzstatic.com/image/thumb/Music123/v4/cc/9c/0e/cc9c0ef4-ac98-ff55-18e0-d2fc7f5f8226/rm_image.jpg/60x60bb.jpg',\n",
       "   'artworkUrl100': 'https://is3-ssl.mzstatic.com/image/thumb/Music123/v4/cc/9c/0e/cc9c0ef4-ac98-ff55-18e0-d2fc7f5f8226/rm_image.jpg/100x100bb.jpg',\n",
       "   'collectionPrice': 5.99,\n",
       "   'collectionExplicitness': 'notExplicit',\n",
       "   'trackCount': 1,\n",
       "   'copyright': '© 2019 Megan Parker',\n",
       "   'country': 'USA',\n",
       "   'currency': 'USD',\n",
       "   'releaseDate': '2019-03-19T07:00:00Z',\n",
       "   'primaryGenreName': 'Sci-Fi & Fantasy',\n",
       "   'previewUrl': 'https://audio-ssl.itunes.apple.com/itunes-assets/AudioPreview123/v4/4b/8a/ff/4b8aff9f-1eef-8146-848b-8c17c39de690/mzaf_3826522635065664322.std.aac.p.m4a',\n",
       "   'description': 'Over 700 Harry Potter fun facts and trivia you must know if you are a true Harry Potter fan. This excellent book has more than 700 facts that will surprise and amaze your family and friends. If you love Harry Potter and want to increase your knowledge of the series, this is the perfect way to do it - you can even use these fantastic facts to make the ultimate quiz for your friends!'},\n",
       "  {'wrapperType': 'audiobook',\n",
       "   'artistId': 79595314,\n",
       "   'collectionId': 1442038193,\n",
       "   'artistName': 'J.K. Rowling',\n",
       "   'collectionName': \"Harry Potter e l'Ordine della Fenice\",\n",
       "   'collectionCensoredName': \"Harry Potter e l'Ordine della Fenice\",\n",
       "   'artistViewUrl': 'https://books.apple.com/us/author/j-k-rowling/id79595314?uo=4',\n",
       "   'collectionViewUrl': 'https://books.apple.com/us/audiobook/harry-potter-e-lordine-della-fenice/id1442038193?uo=4',\n",
       "   'artworkUrl60': 'https://is1-ssl.mzstatic.com/image/thumb/Music123/v4/bc/14/f7/bc14f70b-22c5-1001-b54d-2ff300b4daec/9781781108888.jpg/60x60bb.jpg',\n",
       "   'artworkUrl100': 'https://is1-ssl.mzstatic.com/image/thumb/Music123/v4/bc/14/f7/bc14f70b-22c5-1001-b54d-2ff300b4daec/9781781108888.jpg/100x100bb.jpg',\n",
       "   'collectionPrice': 39.99,\n",
       "   'collectionExplicitness': 'notExplicit',\n",
       "   'trackCount': 1,\n",
       "   'country': 'USA',\n",
       "   'currency': 'USD',\n",
       "   'releaseDate': '2018-02-27T08:00:00Z',\n",
       "   'primaryGenreName': 'Fiction',\n",
       "   'previewUrl': 'https://audio-ssl.itunes.apple.com/itunes-assets/AudioPreview113/v4/29/84/a9/2984a930-aba9-dcad-a0c5-d53e4fd433fd/mzaf_4832084292188487396.std.aac.p.m4a',\n",
       "   'description': \"Il quinto anno a Hogwarts si annuncia carico di sfide difficili. Harry non è mai stato così irrequieto: Lord Voldemort è tornato. Che cosa succederà ora che il Signore Oscuro è di nuovo in pieno possesso dei suoi terrificanti poteri? Al contrario di Silente, il Ministro della Magia sembra non prendere sul serio questa spaventosa minaccia. Toccherà a Harry organizzare la resistenza, con l'aiuto degli amici di sempre e il tumultuoso coraggio dell'adolescenza.<br /><br /><i>Tema musicale composto da James Hannigan</i>\"},\n",
       "  {'wrapperType': 'audiobook',\n",
       "   'artistId': 427578806,\n",
       "   'collectionId': 1453593255,\n",
       "   'artistName': 'Michael Fry & Rowling Stephens',\n",
       "   'collectionName': 'All 256 Harry Potter Spells: The Unofficial Spell Book of Magic Containing All Curses, Charms, Jinxes & Hexes to Become the Ultimate Wizard or Witch! (Unabridged)',\n",
       "   'collectionCensoredName': 'All 256 Harry Potter Spells: The Unofficial Spell Book of Magic Containing All Curses, Charms, Jinxes & Hexes to Become the Ultimate Wizard or Witch! (Unabridged)',\n",
       "   'artistViewUrl': 'https://books.apple.com/us/author/michael-fry/id427578806?uo=4',\n",
       "   'collectionViewUrl': 'https://books.apple.com/us/audiobook/all-256-harry-potter-spells-unofficial-spell-book-magic/id1453593255?uo=4',\n",
       "   'artworkUrl60': 'https://is1-ssl.mzstatic.com/image/thumb/Music114/v4/71/f5/bf/71f5bf51-f30f-3d3c-ed1a-f14abcd7eb76/rm_image.jpg/60x60bb.jpg',\n",
       "   'artworkUrl100': 'https://is1-ssl.mzstatic.com/image/thumb/Music114/v4/71/f5/bf/71f5bf51-f30f-3d3c-ed1a-f14abcd7eb76/rm_image.jpg/100x100bb.jpg',\n",
       "   'collectionPrice': 5.99,\n",
       "   'collectionExplicitness': 'notExplicit',\n",
       "   'trackCount': 1,\n",
       "   'copyright': '© 2019 Michael Fry',\n",
       "   'country': 'USA',\n",
       "   'currency': 'USD',\n",
       "   'releaseDate': '2019-02-19T08:00:00Z',\n",
       "   'primaryGenreName': 'Kids & Young Adults',\n",
       "   'previewUrl': 'https://audio-ssl.itunes.apple.com/itunes-assets/AudioPreview113/v4/73/db/01/73db01c6-5052-837e-c60e-f9d8649cb1a5/mzaf_1050741281864269146.std.aac.p.m4a',\n",
       "   'description': 'Consider yourself a true Harry Potter Fan? Ever wondered how many spells you know? Think you have what it takes to pass the OWL exam?<br /><br />This comprehensive spell guide has all the spells you could ever need. From the books to the movies and even the video games, you’ll be able to become the most powerful witch or wizard there ever was.<br /><br />Here is what you’ll learn:<br />\\n\\nWhether the spell is a hex, curse, jinx, or charm\\nHow to pronounce the spell\\nThe ancient roots of the spell\\nWhen the spell was used during the series\\nWho invented the spell\\nPlus, 10 of the biggest WTF Harry Potter facts of the series\\n\\n<br />So, if you want to feel a bit of nostalgia from your favorite magical world or just need that perfect gift to give to a Harry Potter addict, scroll up and click \"Buy Now\"!'},\n",
       "  {'wrapperType': 'audiobook',\n",
       "   'artistId': 79595314,\n",
       "   'collectionId': 1442176274,\n",
       "   'artistName': 'J.K. Rowling',\n",
       "   'collectionName': 'Harry Potter und die Heiligtümer des Todes',\n",
       "   'collectionCensoredName': 'Harry Potter und die Heiligtümer des Todes',\n",
       "   'artistViewUrl': 'https://books.apple.com/us/author/j-k-rowling/id79595314?uo=4',\n",
       "   'collectionViewUrl': 'https://books.apple.com/us/audiobook/harry-potter-und-die-heiligt%C3%BCmer-des-todes/id1442176274?uo=4',\n",
       "   'artworkUrl60': 'https://is1-ssl.mzstatic.com/image/thumb/Music113/v4/df/e0/b1/dfe0b183-6b18-70f2-c9a2-bb81f5fdb647/9781781102961.jpg/60x60bb.jpg',\n",
       "   'artworkUrl100': 'https://is1-ssl.mzstatic.com/image/thumb/Music113/v4/df/e0/b1/dfe0b183-6b18-70f2-c9a2-bb81f5fdb647/9781781102961.jpg/100x100bb.jpg',\n",
       "   'collectionPrice': 39.99,\n",
       "   'collectionExplicitness': 'notExplicit',\n",
       "   'trackCount': 1,\n",
       "   'country': 'USA',\n",
       "   'currency': 'USD',\n",
       "   'releaseDate': '2015-11-20T08:00:00Z',\n",
       "   'primaryGenreName': 'Fiction',\n",
       "   'previewUrl': 'https://audio-ssl.itunes.apple.com/itunes-assets/AudioPreview123/v4/86/9c/54/869c549e-d7d1-16c6-4270-9ec0713ed8f2/mzaf_2757378650527745546.std.aac.p.m4a',\n",
       "   'description': 'An eine Rückkehr nach Hogwarts ist für Harry nicht zu denken. Er muss alles daransetzen, die fehlenden Horkruxe zu finden, um zu vollenden, was Dumbledore und der begonnen haben. Erst wenn sie zerstört sind, kann Voldemorts Schreckensherrschaft vergehen. Mit Ron und Hermine an seiner Seite und einem magischen Zelt im Gepäck begibt sich Harry auf eine gefährliche Reise, quer durch das ganze Land. Als die drei dabei auf die rätselhaften Heiligtümer des Todes stoßen, muss Harry sich entscheiden. Soll der dieser Spur folgen? Doch er ahnt schon jetzt: Welche Wahl er auch trifft - am Ende des Weges wird der Dunkle Lord auf ihn warten...<br /><br /><i>Titelmusik komponiert von James Hannigan</i>'},\n",
       "  {'wrapperType': 'audiobook',\n",
       "   'artistId': 419658271,\n",
       "   'collectionId': 664300419,\n",
       "   'artistName': 'Steve Wohlberg',\n",
       "   'collectionName': 'Hidden Dangers in Harry Potter: Teaching Series (Unabridged)',\n",
       "   'collectionCensoredName': 'Hidden Dangers in Harry Potter: Teaching Series (Unabridged)',\n",
       "   'artistViewUrl': 'https://books.apple.com/us/author/steve-wohlberg/id419658271?uo=4',\n",
       "   'collectionViewUrl': 'https://books.apple.com/us/audiobook/hidden-dangers-in-harry-potter-teaching-series-unabridged/id664300419?uo=4',\n",
       "   'artworkUrl60': 'https://is1-ssl.mzstatic.com/image/thumb/Music4/v4/4e/9c/d8/4e9cd80d-37df-74ba-b49a-1add929b7135/itunes.jpg/60x60bb.jpg',\n",
       "   'artworkUrl100': 'https://is1-ssl.mzstatic.com/image/thumb/Music4/v4/4e/9c/d8/4e9cd80d-37df-74ba-b49a-1add929b7135/itunes.jpg/100x100bb.jpg',\n",
       "   'collectionPrice': 4.99,\n",
       "   'collectionExplicitness': 'notExplicit',\n",
       "   'trackCount': 1,\n",
       "   'copyright': '© 2013 Destiny Image',\n",
       "   'country': 'USA',\n",
       "   'currency': 'USD',\n",
       "   'releaseDate': '2013-06-19T07:00:00Z',\n",
       "   'primaryGenreName': 'Religion & Spirituality',\n",
       "   'previewUrl': 'https://audio-ssl.itunes.apple.com/itunes-assets/AudioPreview123/v4/5b/05/85/5b0585c1-cf69-cf2d-1ecb-49b55a9926dc/mzaf_6120002966486298861.std.aac.p.m4a',\n",
       "   'description': \"The Harry Potter novels and movies have “mesmerized and entire generation of kids” (<i>Time Magazine</i>, June 23, 2003, p.6). Most consider them harmless fiction - yet could there be a menace behind the magic? God's last books warns, “by sorcery all the nations were deceived” (Revelation 18:23). Will Potter-mania contribute to the fulfillment of this prediction? <br /><br /><i>Hidden Dangers in Harry Potter</i> is a thought provoking and very informative look into the inspiration and teaching of J.K. Rowling's best selling fiction series. Learn the very real dangers behind this popular character enchanting millions of children with tales of witchcraft. Join Steve Wohlberg as he challenges us to question, What does the Bible say about this kind of entertainment? You will find this to be a well-researched, fair, and eye-opening presentation. <br /><br />**Teaching Series audio recorded from a live author seminar.**\"},\n",
       "  {'wrapperType': 'audiobook',\n",
       "   'artistId': 79595314,\n",
       "   'collectionId': 1442705862,\n",
       "   'artistName': 'J.K. Rowling',\n",
       "   'collectionName': 'Harry Potter und der Halbblutprinz',\n",
       "   'collectionCensoredName': 'Harry Potter und der Halbblutprinz',\n",
       "   'artistViewUrl': 'https://books.apple.com/us/author/j-k-rowling/id79595314?uo=4',\n",
       "   'collectionViewUrl': 'https://books.apple.com/us/audiobook/harry-potter-und-der-halbblutprinz/id1442705862?uo=4',\n",
       "   'artworkUrl60': 'https://is3-ssl.mzstatic.com/image/thumb/Music123/v4/10/95/55/10955528-4c5d-f998-0f10-0a4c3021853c/9781781108017.jpg/60x60bb.jpg',\n",
       "   'artworkUrl100': 'https://is3-ssl.mzstatic.com/image/thumb/Music123/v4/10/95/55/10955528-4c5d-f998-0f10-0a4c3021853c/9781781108017.jpg/100x100bb.jpg',\n",
       "   'collectionPrice': 39.99,\n",
       "   'collectionExplicitness': 'notExplicit',\n",
       "   'trackCount': 1,\n",
       "   'country': 'USA',\n",
       "   'currency': 'USD',\n",
       "   'releaseDate': '2016-10-04T07:00:00Z',\n",
       "   'primaryGenreName': 'Fiction',\n",
       "   'previewUrl': 'https://audio-ssl.itunes.apple.com/itunes-assets/AudioPreview123/v4/7f/9d/ac/7f9dac58-0a9f-5a89-6dde-a9965b5f9f13/mzaf_15434125545841301795.std.aac.p.m4a',\n",
       "   'description': 'Rufus Beck liest Band 6 von Harry Potter.  Seit Voldemort, der gefährlichste schwarze Magier aller Zeiten, zurückgekehrt ist, herrschen Aufruhr und Gewalt in der magischen Welt. Als Harry Potter und seine Freunde Ron und Hermine zu ihrem sechsten Schuljahr nach Hogwarts kommen, gelten strengste Sicherheitsmaßnahmen in der Zauberschule. Dumbledore will seine Schützlinge vor dem Zugriff des Bösen bewahren. Um Harry zu wappnen, erforscht er mit ihm die Geschichte des Dunklen Lords. Ob auch Harrys Zaubertrankbuch, das früher einem „Halbblutzprinzen\" gehörte, ihm helfen kann?<br /><br /><i>Titelmusik komponiert von James Hannigan</i>'},\n",
       "  {'wrapperType': 'audiobook',\n",
       "   'artistId': 79595314,\n",
       "   'collectionId': 1468434502,\n",
       "   'artistName': 'J.K. Rowling',\n",
       "   'collectionName': 'Harry Potter y el cáliz de fuego',\n",
       "   'collectionCensoredName': 'Harry Potter y el cáliz de fuego',\n",
       "   'artistViewUrl': 'https://books.apple.com/us/author/j-k-rowling/id79595314?uo=4',\n",
       "   'collectionViewUrl': 'https://books.apple.com/us/audiobook/harry-potter-y-el-c%C3%A1liz-de-fuego/id1468434502?uo=4',\n",
       "   'artworkUrl60': 'https://is1-ssl.mzstatic.com/image/thumb/Music123/v4/37/62/a9/3762a996-3c93-86a1-953a-49dcdb4b1170/9781781105054.jpg/60x60bb.jpg',\n",
       "   'artworkUrl100': 'https://is1-ssl.mzstatic.com/image/thumb/Music123/v4/37/62/a9/3762a996-3c93-86a1-953a-49dcdb4b1170/9781781105054.jpg/100x100bb.jpg',\n",
       "   'collectionPrice': 39.99,\n",
       "   'collectionExplicitness': 'notExplicit',\n",
       "   'trackCount': 1,\n",
       "   'country': 'USA',\n",
       "   'currency': 'USD',\n",
       "   'releaseDate': '2019-05-14T07:00:00Z',\n",
       "   'primaryGenreName': 'Fiction',\n",
       "   'previewUrl': 'https://audio-ssl.itunes.apple.com/itunes-assets/AudioPreview123/v4/92/64/25/92642565-a196-046f-de06-bc6062573550/mzaf_15832792673453972692.std.aac.p.m4a',\n",
       "   'description': '<i>\"Habrá tres pruebas, espaciadas en el año escolar, que medirán a los campeones en muchos aspectos diferentes: sus habilidades mágicas, su osadía, sus dotes de deducción y, por supuesto, su capacidad para sortear el peligro.\"</i><br /><br />En Hogwarts se realizará el Torneo de los Tres Magos. Solo los magos que tienen más de diecisiete años pueden ingresar, pero eso no impide que Harry sueñe con ganar la competencia. Luego, en la festividad de Halloween, cuando el Cáliz de Fuego hace su selección, Harry se sorprende al descubrir que su nombre es uno de los que elige la copa mágica. Se enfrentará a tareas que desafían a la muerte, dragones y magos oscuros, pero con la ayuda de sus mejores amigos, Ron y Hermione, ¡podría lograrlo y salir con vida!<br /><br /><b>Please note: this audiobook is narrated in Spanish with a Latin American accent</b><br /><br /><i>Theme music composed by James Hannigan</i>'},\n",
       "  {'wrapperType': 'audiobook',\n",
       "   'artistId': 79595314,\n",
       "   'collectionId': 1442173096,\n",
       "   'artistName': 'J.K. Rowling',\n",
       "   'collectionName': 'Harry Potter e la Pietra Filosofale',\n",
       "   'collectionCensoredName': 'Harry Potter e la Pietra Filosofale',\n",
       "   'artistViewUrl': 'https://books.apple.com/us/author/j-k-rowling/id79595314?uo=4',\n",
       "   'collectionViewUrl': 'https://books.apple.com/us/audiobook/harry-potter-e-la-pietra-filosofale/id1442173096?uo=4',\n",
       "   'artworkUrl60': 'https://is2-ssl.mzstatic.com/image/thumb/Music113/v4/4d/1f/ad/4d1fad99-c9bf-b4a7-c996-eaa8b536795b/9781781108840.jpg/60x60bb.jpg',\n",
       "   'artworkUrl100': 'https://is2-ssl.mzstatic.com/image/thumb/Music113/v4/4d/1f/ad/4d1fad99-c9bf-b4a7-c996-eaa8b536795b/9781781108840.jpg/100x100bb.jpg',\n",
       "   'collectionPrice': 12.99,\n",
       "   'collectionExplicitness': 'notExplicit',\n",
       "   'trackCount': 1,\n",
       "   'country': 'USA',\n",
       "   'currency': 'USD',\n",
       "   'releaseDate': '2017-09-21T07:00:00Z',\n",
       "   'primaryGenreName': 'Fiction',\n",
       "   'previewUrl': 'https://audio-ssl.itunes.apple.com/itunes-assets/AudioPreview123/v4/30/bc/6b/30bc6b24-051e-5a0d-ba85-a73dbb2956c3/mzaf_16168209382048933900.std.aac.p.m4a',\n",
       "   'description': \"Harry Potter è un ragazzo normale, o quantomeno è convinto di esserlo, anche se a volte provoca strani fenomeni, come farsi ricrescere i capelli inesorabilmente tagliati dai perfidi zii. Vive con loro al numero 4 di Privet Drive: una strada di periferia come tante, dove non succede mai nulla fuori dall'ordinario. Finché un giorno, poco prima del suo undicesimo compleanno, riceve una misteriosa lettera che gli rivela la sua vera natura: Harry è un mago e la Scuola di Magia e Stregoneria di Hogwarts è pronta ad accoglierlo...<br /><br /><i>Tema musicale composto da James Hannigan</i>\"},\n",
       "  {'wrapperType': 'audiobook',\n",
       "   'artistId': 79595314,\n",
       "   'collectionId': 1476807005,\n",
       "   'artistName': 'J.K. Rowling',\n",
       "   'collectionName': 'Harry Potter y la Orden del Fénix',\n",
       "   'collectionCensoredName': 'Harry Potter y la Orden del Fénix',\n",
       "   'artistViewUrl': 'https://books.apple.com/us/author/j-k-rowling/id79595314?uo=4',\n",
       "   'collectionViewUrl': 'https://books.apple.com/us/audiobook/harry-potter-y-la-orden-del-f%C3%A9nix/id1476807005?uo=4',\n",
       "   'artworkUrl60': 'https://is3-ssl.mzstatic.com/image/thumb/Music113/v4/93/85/bb/9385bb4f-a1c5-6581-c7b1-421128b71f7d/9781781105061.jpg/60x60bb.jpg',\n",
       "   'artworkUrl100': 'https://is3-ssl.mzstatic.com/image/thumb/Music113/v4/93/85/bb/9385bb4f-a1c5-6581-c7b1-421128b71f7d/9781781105061.jpg/100x100bb.jpg',\n",
       "   'collectionPrice': 39.99,\n",
       "   'collectionExplicitness': 'notExplicit',\n",
       "   'trackCount': 1,\n",
       "   'country': 'USA',\n",
       "   'currency': 'USD',\n",
       "   'releaseDate': '2019-07-16T07:00:00Z',\n",
       "   'primaryGenreName': 'Fiction',\n",
       "   'previewUrl': 'https://audio-ssl.itunes.apple.com/itunes-assets/AudioPreview123/v4/9a/46/2d/9a462d51-1e97-ac9e-f626-aea2aa739eaf/mzaf_14754817086745697135.std.aac.p.m4a',\n",
       "   'description': '<i>\"Tú compartes los pensamientos y las emociones con el Señor Tenebroso. El director cree que no es conveniente que eso continúe ocurriendo. Quiere que te enseñe a cerrar tu mente al Señor Tenebroso.\"</i><br /><br />Hogwarts pasa por tiempos oscuros. Después del ataque de los Dementores contra su primo Dudley, Harry Potter sabe que Voldemort no se detendrá ante nada para encontrarlo. Hay muchos que niegan el regreso del Señor Oscuro, pero Harry no está solo: una orden secreta se reúne en Grimmauld Place para luchar contra las Fuerzas Oscuras. Harry debe permitir que el Profesor Snape le enseñe cómo protegerse contra los salvajes ataques de Voldemort en su mente, pero estos son cada vez más fuertes y a Harry se le acaba el tiempo...<br /><br /><b>Please note: this audiobook is narrated in Spanish with a Latin American accent</b><br /><br /><i>Theme music composed by James Hannigan</i>'},\n",
       "  {'wrapperType': 'audiobook',\n",
       "   'artistId': 427578806,\n",
       "   'collectionId': 1460518459,\n",
       "   'artistName': 'Michael Fry & Rowling Stephens',\n",
       "   'collectionName': '200 Harry Potter Trivia Questions - The Unofficial Wizard and Witch Training Guide with All the Facts: Unofficial Guide, Book 3 (Unabridged)',\n",
       "   'collectionCensoredName': '200 Harry Potter Trivia Questions - The Unofficial Wizard and Witch Training Guide with All the Facts: Unofficial Guide, Book 3 (Unabridged)',\n",
       "   'artistViewUrl': 'https://books.apple.com/us/author/michael-fry/id427578806?uo=4',\n",
       "   'collectionViewUrl': 'https://books.apple.com/us/audiobook/200-harry-potter-trivia-questions-unofficial-wizard/id1460518459?uo=4',\n",
       "   'artworkUrl60': 'https://is5-ssl.mzstatic.com/image/thumb/Music123/v4/9f/91/ff/9f91ff54-e22e-adaa-b521-5bc345ff6811/rm_image.jpg/60x60bb.jpg',\n",
       "   'artworkUrl100': 'https://is5-ssl.mzstatic.com/image/thumb/Music123/v4/9f/91/ff/9f91ff54-e22e-adaa-b521-5bc345ff6811/rm_image.jpg/100x100bb.jpg',\n",
       "   'collectionPrice': 5.99,\n",
       "   'collectionExplicitness': 'notExplicit',\n",
       "   'trackCount': 1,\n",
       "   'copyright': '© 2019 Michael Fry',\n",
       "   'country': 'USA',\n",
       "   'currency': 'USD',\n",
       "   'releaseDate': '2019-04-21T07:00:00Z',\n",
       "   'primaryGenreName': 'Kids & Young Adults',\n",
       "   'previewUrl': 'https://audio-ssl.itunes.apple.com/itunes-assets/AudioPreview123/v4/6d/43/d1/6d43d193-d782-f4d7-b84c-9cee4b87dbe9/mzaf_4583813074941465470.std.aac.p.m4a',\n",
       "   'description': \"Consider yourself a true Harry Potter fan? Think you have what it takes to answer these 200 questions? Come listen and see if you'll pass with outstanding grades to move onto N.E.W.T level studies or get a Troll mark and fail like Goyle.<br /><br />Take the quiz with friends or by yourself - there's 10 levels with 20 questions each that get progressively harder as you go on. There's even a wizarding marking guide so you can see which grade you get and if you pass or fail!<br /><br />There'll be questions such as:<br /><br />How is a Patronus summoned?<br /><br />When does astronomy class meet in the first book?<br /><br />How many fouls are there in Quidditch?<br /><br />Who is the ghost of Slytherin?<br /><br />Dumbledore has a scar above his left knee that is a perfect map of what?<br /><br />How many Sickles in a Galleon?<br /><br />You have four multiple choice questions to choose from with some yes or no and some true or false.<br /><br />As a bonus we’ve even added an extra chapter of our other book, <i>256 Harry Potter Spells</i>, so you can master the charms and become a powerful witch or wizard!<br /><br /><b>What’re you waiting for? Come inside and relive a bit of nostalgia for the boy who lived. </b>\"},\n",
       "  {'wrapperType': 'audiobook',\n",
       "   'artistId': 428269602,\n",
       "   'collectionId': 1453232984,\n",
       "   'artistName': 'Jack Goldstein',\n",
       "   'collectionName': 'Harry Potter - The Ultimate Quiz: 400 Questions and Answers',\n",
       "   'collectionCensoredName': 'Harry Potter - The Ultimate Quiz: 400 Questions and Answers',\n",
       "   'artistViewUrl': 'https://books.apple.com/us/author/jack-goldstein/id428269602?uo=4',\n",
       "   'collectionViewUrl': 'https://books.apple.com/us/audiobook/harry-potter-the-ultimate-quiz-400-questions-and-answers/id1453232984?uo=4',\n",
       "   'artworkUrl60': 'https://is2-ssl.mzstatic.com/image/thumb/Music124/v4/dd/c6/50/ddc650a7-be6d-7959-15b1-5361158017e6/9781785389788_cover.jpg/60x60bb.jpg',\n",
       "   'artworkUrl100': 'https://is2-ssl.mzstatic.com/image/thumb/Music124/v4/dd/c6/50/ddc650a7-be6d-7959-15b1-5361158017e6/9781785389788_cover.jpg/100x100bb.jpg',\n",
       "   'collectionPrice': 14.99,\n",
       "   'collectionExplicitness': 'notExplicit',\n",
       "   'trackCount': 1,\n",
       "   'copyright': '© 2018 Andrews UK',\n",
       "   'country': 'USA',\n",
       "   'currency': 'USD',\n",
       "   'releaseDate': '2018-09-11T07:00:00Z',\n",
       "   'primaryGenreName': 'Nonfiction',\n",
       "   'previewUrl': 'https://audio-ssl.itunes.apple.com/itunes-assets/AudioPreview123/v4/37/e5/b0/37e5b0be-fdec-90b2-a33e-8858b89e3a70/mzaf_8971728292234380401.std.aac.p.m4a',\n",
       "   'description': 'Join quizmaster Jason Zenobia for the Ultimate Harry Potter Quiz and find out who can rightfully wear the crown as the king or queen of Harry Potter knowledge. Perhaps you’ve read the books from cover to cover three times each, or you’ve visited the studio tour every year since it opened… but how much of it all can you remember? Do you know, for instance, which animal each character casts as their Patronus charm? Can you reel off the names of all of the shops in Hogsmeade? What is Mandrake root used for… and which two types of Dragon still roam the British Isles?<br /><br />There are two ways to play this quiz. For the first set of tracks, the quizmaster reads out ten questions at a time, before confirming the ten correct answers - this is great if you’ve got a pen and paper and want to pit your wits against your friends. Alternatively, if you play the second set of tracks, each question is answered in turn - perfect for a car journey, where the whole family can join in.<br /><br />The quiz covers a range of subjects, from individual characters to themes such as spells and potions, or Quidditch. The questions are based on the Harry Potter story as told in the books rather than the films - so remember this before shouting out the first answer that comes into your head!<br /><br />This is the perfect audiobook for any Harry Potter fan.'},\n",
       "  {'wrapperType': 'audiobook',\n",
       "   'artistId': 79595314,\n",
       "   'collectionId': 1442757705,\n",
       "   'artistName': 'J.K. Rowling',\n",
       "   'collectionName': 'Harry Potter et l’Ordre du Phénix',\n",
       "   'collectionCensoredName': 'Harry Potter et l’Ordre du Phénix',\n",
       "   'artistViewUrl': 'https://books.apple.com/us/author/j-k-rowling/id79595314?uo=4',\n",
       "   'collectionViewUrl': 'https://books.apple.com/us/audiobook/harry-potter-et-lordre-du-ph%C3%A9nix/id1442757705?uo=4',\n",
       "   'artworkUrl60': 'https://is1-ssl.mzstatic.com/image/thumb/Music113/v4/2b/e4/98/2be498b0-7790-1a7a-d620-2be94cbdf974/9781781108802.jpg/60x60bb.jpg',\n",
       "   'artworkUrl100': 'https://is1-ssl.mzstatic.com/image/thumb/Music113/v4/2b/e4/98/2be498b0-7790-1a7a-d620-2be94cbdf974/9781781108802.jpg/100x100bb.jpg',\n",
       "   'collectionPrice': 39.99,\n",
       "   'collectionExplicitness': 'notExplicit',\n",
       "   'trackCount': 1,\n",
       "   'country': 'USA',\n",
       "   'currency': 'USD',\n",
       "   'releaseDate': '2017-05-11T07:00:00Z',\n",
       "   'primaryGenreName': 'Fiction',\n",
       "   'previewUrl': 'https://audio-ssl.itunes.apple.com/itunes-assets/AudioPreview123/v4/6a/d1/51/6ad151a8-cc6f-421b-2b0e-bdd180ddf720/mzaf_2147054111119378522.std.aac.p.m4a',\n",
       "   'description': \"À quinze ans, Harry entre en cinquième année à Poudlard, mais il n'a jamais été si anxieux. L'adolescence, la perspective des examens et ces étranges cauchemars... Car Celui-Dont-On-Ne-Doit-Pas-Prononcer- Le-Nom est de retour. Le ministère de la Magie semble ne pas prendre cette menace au sérieux, contrairement à Dumbledore. La résistance s'organise alors autour de Harry qui va devoir compter sur le courage et la fidélité de ses amis de toujours... D'une inventivité et d'une virtuosité rares, découvrez le cinquième tome de cette saga que son auteur a su hisser au rang de véritable phénomène littéraire.<br /><br /><i>Thème principal composé par James Hannigan</i>\"},\n",
       "  {'wrapperType': 'audiobook',\n",
       "   'artistId': 1121206953,\n",
       "   'collectionId': 1172727905,\n",
       "   'artistName': 'J.K.ローリング & 松岡 佑子',\n",
       "   'collectionName': \"ハリー・ポッターと賢者の石: Harry Potter and the Philosopher's Stone\",\n",
       "   'collectionCensoredName': \"ハリー・ポッターと賢者の石: Harry Potter and the Philosopher's Stone\",\n",
       "   'artistViewUrl': 'https://books.apple.com/us/author/j-k-%E3%83%AD%E3%83%BC%E3%83%AA%E3%83%B3%E3%82%B0/id1121206953?uo=4',\n",
       "   'collectionViewUrl': 'https://books.apple.com/us/audiobook/%E3%83%8F%E3%83%AA%E3%83%BC-%E3%83%9D%E3%83%83%E3%82%BF%E3%83%BC%E3%81%A8%E8%B3%A2%E8%80%85%E3%81%AE%E7%9F%B3-harry-potter-and-the-philosophers-stone/id1172727905?uo=4',\n",
       "   'artworkUrl60': 'https://is2-ssl.mzstatic.com/image/thumb/Music123/v4/2c/7a/2c/2c7a2c4f-0924-b478-c36c-fbdc62f24a1a/rm_image.jpg/60x60bb.jpg',\n",
       "   'artworkUrl100': 'https://is2-ssl.mzstatic.com/image/thumb/Music123/v4/2c/7a/2c/2c7a2c4f-0924-b478-c36c-fbdc62f24a1a/rm_image.jpg/100x100bb.jpg',\n",
       "   'collectionPrice': 29.99,\n",
       "   'collectionExplicitness': 'notExplicit',\n",
       "   'trackCount': 1,\n",
       "   'copyright': '© 2016 Pottermore by J.K. Rowling',\n",
       "   'country': 'USA',\n",
       "   'currency': 'USD',\n",
       "   'releaseDate': '2016-11-09T08:00:00Z',\n",
       "   'primaryGenreName': 'Kids & Young Adults',\n",
       "   'previewUrl': 'https://audio-ssl.itunes.apple.com/itunes-assets/AudioPreview123/v4/17/25/4b/17254bee-7f7c-41f5-79e9-64238184cfac/mzaf_15441698696373950370.std.aac.p.m4a',\n",
       "   'description': 'ハリー・ポッターは孤児。意地悪な従兄にいじめられながら11歳の誕生日を迎えようとしたとき、ホグワーツ魔法学校からの入学許可証が届き、自分が魔法使いだと知る。キングズ・クロス駅、9と4分の3番線から紅色の汽車に乗り、ハリーは未知の世界へ。ハリーを待ち受けていたのは、夢と、冒険、友情、そして自分の生い立ちをめぐるミステリー。&#xa0;&#xa0;<br /><br />ハリーはなぜ魔法界で知らぬものが無いほど有名なのか? 額の傷はなぜか? 自分でも気づかなかったハリーの魔法の力が次々と引き出されてゆく。そして邪悪な魔法使いヴォルデモートとの運命の対決。'},\n",
       "  {'wrapperType': 'audiobook',\n",
       "   'artistId': 79595314,\n",
       "   'collectionId': 1442084876,\n",
       "   'artistName': 'J.K. Rowling',\n",
       "   'collectionName': 'Harry Potter e il Prigioniero di Azkaban',\n",
       "   'collectionCensoredName': 'Harry Potter e il Prigioniero di Azkaban',\n",
       "   'artistViewUrl': 'https://books.apple.com/us/author/j-k-rowling/id79595314?uo=4',\n",
       "   'collectionViewUrl': 'https://books.apple.com/us/audiobook/harry-potter-e-il-prigioniero-di-azkaban/id1442084876?uo=4',\n",
       "   'artworkUrl60': 'https://is4-ssl.mzstatic.com/image/thumb/Music113/v4/d3/57/91/d3579175-0798-5ad8-c52d-50fe84c92ab9/9781781108864.jpg/60x60bb.jpg',\n",
       "   'artworkUrl100': 'https://is4-ssl.mzstatic.com/image/thumb/Music113/v4/d3/57/91/d3579175-0798-5ad8-c52d-50fe84c92ab9/9781781108864.jpg/100x100bb.jpg',\n",
       "   'collectionPrice': 12.99,\n",
       "   'collectionExplicitness': 'notExplicit',\n",
       "   'trackCount': 1,\n",
       "   'country': 'USA',\n",
       "   'currency': 'USD',\n",
       "   'releaseDate': '2017-12-05T08:00:00Z',\n",
       "   'primaryGenreName': 'Fiction',\n",
       "   'previewUrl': 'https://audio-ssl.itunes.apple.com/itunes-assets/AudioPreview113/v4/02/f7/b3/02f7b37b-b72c-8e80-9f91-c82ab3bde978/mzaf_7778730891682033827.std.aac.p.m4a',\n",
       "   'description': 'Una terribile minaccia incombe sulla Scuola di Magia e Stregoneria di Hogwarts. Sirius Black, il famigerato assassino, è evaso dalla prigione di Azkaban. È in caccia e la sua preda è proprio a Hogwarts, dove Harry e i suoi amici stanno per cominciare il loro terzo anno. Nonostante la sorveglianza dei Dissennatori la scuola non è più un luogo sicuro, perché al suo interno si nasconde un traditore...<br /><br /><i>Tema musicale composto da James Hannigan</i>'},\n",
       "  {'wrapperType': 'audiobook',\n",
       "   'artistId': 1392605412,\n",
       "   'collectionId': 1422420484,\n",
       "   'artistName': 'Christopher C Keller',\n",
       "   'collectionName': 'Harry Potter: The Little Book of Curious Facts! (Unabridged)',\n",
       "   'collectionCensoredName': 'Harry Potter: The Little Book of Curious Facts! (Unabridged)',\n",
       "   'artistViewUrl': 'https://books.apple.com/us/author/christopher-c-keller/id1392605412?uo=4',\n",
       "   'collectionViewUrl': 'https://books.apple.com/us/audiobook/harry-potter-the-little-book-of-curious-facts-unabridged/id1422420484?uo=4',\n",
       "   'artworkUrl60': 'https://is2-ssl.mzstatic.com/image/thumb/Music113/v4/87/6e/11/876e1167-4cc0-8303-ef66-e19d6ea30e8c/rm_image.jpg/60x60bb.jpg',\n",
       "   'artworkUrl100': 'https://is2-ssl.mzstatic.com/image/thumb/Music113/v4/87/6e/11/876e1167-4cc0-8303-ef66-e19d6ea30e8c/rm_image.jpg/100x100bb.jpg',\n",
       "   'collectionPrice': 5.99,\n",
       "   'collectionExplicitness': 'notExplicit',\n",
       "   'trackCount': 1,\n",
       "   'copyright': '© 2018 Christopher Keller',\n",
       "   'country': 'USA',\n",
       "   'currency': 'USD',\n",
       "   'releaseDate': '2018-08-03T07:00:00Z',\n",
       "   'primaryGenreName': 'Kids & Young Adults',\n",
       "   'previewUrl': 'https://audio-ssl.itunes.apple.com/itunes-assets/AudioPreview113/v4/6a/46/b8/6a46b86a-2037-263f-0509-4eda6a369cd0/mzaf_2347427987360720546.std.aac.p.m4a',\n",
       "   'description': \"Learn all the Harry Potter facts you never knew!&#xa0;<br /><br />This fun fact book is suitable for all ages, so journey through the classic memories with these rare facts you probably missed. Some of the most upfront information can easily be missed in the blink of an eye! Test any true fan with these hand-selected Harry Potter facts from the series!<br /><br />Inside this fun and informative book, you’ll discover:<br />\\n\\nOver 143 new facts you never knew about Potter\\nThe rare thoughts of some of the characters not mentioned\\nNew ways to trivia your friends with these exciting Hogwarts tidbits\\nLore from multiple series\\nAnd so much more!\\n\\n<br />You’ll enjoy fun sharable facts, new perspectives, and rare information you likely missed. It's extremely fun, social, and interactive!<br /><br />Don’t miss out on this popular little book of facts. Get your copy of <i>Harry Potter: The Little Book of Curious Facts</i> today!&#xa0;\"},\n",
       "  {'wrapperType': 'audiobook',\n",
       "   'artistId': 79595314,\n",
       "   'collectionId': 1504430672,\n",
       "   'artistName': 'J.K. Rowling',\n",
       "   'collectionName': 'Harry Potter y el misterio del príncipe',\n",
       "   'collectionCensoredName': 'Harry Potter y el misterio del príncipe',\n",
       "   'artistViewUrl': 'https://books.apple.com/us/author/j-k-rowling/id79595314?uo=4',\n",
       "   'collectionViewUrl': 'https://books.apple.com/us/audiobook/harry-potter-y-el-misterio-del-pr%C3%ADncipe/id1504430672?uo=4',\n",
       "   'artworkUrl60': 'https://is1-ssl.mzstatic.com/image/thumb/Music123/v4/da/3e/b1/da3eb11f-1d5c-4d70-37f3-3172b117a0ac/9781781105078.jpg/60x60bb.jpg',\n",
       "   'artworkUrl100': 'https://is1-ssl.mzstatic.com/image/thumb/Music123/v4/da/3e/b1/da3eb11f-1d5c-4d70-37f3-3172b117a0ac/9781781105078.jpg/100x100bb.jpg',\n",
       "   'collectionPrice': 39.99,\n",
       "   'collectionExplicitness': 'notExplicit',\n",
       "   'trackCount': 1,\n",
       "   'country': 'USA',\n",
       "   'currency': 'USD',\n",
       "   'releaseDate': '2020-02-25T08:00:00Z',\n",
       "   'primaryGenreName': 'Fiction',\n",
       "   'previewUrl': 'https://audio-ssl.itunes.apple.com/itunes-assets/AudioPreview123/v4/07/f6/0c/07f60c9c-d8fe-7037-a936-bc0498870174/mzaf_3938126772505527525.std.aac.p.m4a',\n",
       "   'description': '<i>\"En efecto, suspendido en el cielo encima del castillo, había un reluciente cráneo verde con lengua de serpiente, la marca que dejaban los mortífagos cuando salían de un edificio donde habían matado...\"</i><br /><br />Una noche de verano, cuando Dumbledore llega a Privet Drive a recoger a Harry Potter, su mano derecha se torna oscura y marchita, pero no explica la razón. Los rumores y las sospechas se están extendiendo a través del mundo mágico, y ni siquiera Hogwarts es un lugar seguro. Harry está convencido de que Malfoy lleva la marca tenebrosa: hay un mortífago entre ellos. Harry necesitará magia poderosa y verdaderos amigos para explorar los secretos más oscuros de Voldemort, mientras Dumbledore lo prepara para enfrentar su destino...<br /><br /><b>Please note: this audiobook is narrated in Spanish with a Latin American accent</b><br /><br /><i>Theme music composed by James Hannigan</i>'},\n",
       "  {'wrapperType': 'audiobook',\n",
       "   'artistId': 306805622,\n",
       "   'collectionId': 1424707677,\n",
       "   'artistName': 'Melissa Anelli',\n",
       "   'collectionName': 'Harry, a History: The True Story of a Boy Wizard, His Fans, and Life Inside the Harry Potter Phenomenon',\n",
       "   'collectionCensoredName': 'Harry, a History: The True Story of a Boy Wizard, His Fans, and Life Inside the Harry Potter Phenomenon',\n",
       "   'artistViewUrl': 'https://books.apple.com/us/author/melissa-anelli/id306805622?uo=4',\n",
       "   'collectionViewUrl': 'https://books.apple.com/us/audiobook/harry-history-true-story-boy-wizard-his-fans-life-inside/id1424707677?uo=4',\n",
       "   'artworkUrl60': 'https://is1-ssl.mzstatic.com/image/thumb/Music118/v4/8e/7b/b7/8e7bb7ab-bd8d-0b9a-37c2-80370b0f9e48/9781400181629_cover.jpg/60x60bb.jpg',\n",
       "   'artworkUrl100': 'https://is1-ssl.mzstatic.com/image/thumb/Music118/v4/8e/7b/b7/8e7bb7ab-bd8d-0b9a-37c2-80370b0f9e48/9781400181629_cover.jpg/100x100bb.jpg',\n",
       "   'collectionPrice': 16.99,\n",
       "   'collectionExplicitness': 'notExplicit',\n",
       "   'trackCount': 1,\n",
       "   'copyright': '© 2009 Tantor Audio',\n",
       "   'country': 'USA',\n",
       "   'currency': 'USD',\n",
       "   'releaseDate': '2009-03-23T07:00:00Z',\n",
       "   'primaryGenreName': 'Nonfiction',\n",
       "   'previewUrl': 'https://audio-ssl.itunes.apple.com/itunes-assets/AudioPreview113/v4/14/30/51/14305182-2cb5-5bcc-95b3-b1623c3fe308/mzaf_519898276996234988.std.aac.p.m4a',\n",
       "   'description': \"During the brief span of just one decade, hundreds of millions of perfectly ordinary people made history: they became the only ones who would remember what it was like when the Harry Potter saga was still unfinished. What it was like to seek out friends, families, online forums, fan fiction, and podcasts to get a fix between novels. When the death of a character was a hotter bet than the World Series. When the unfolding story of a boy wizard changed the way books are read for all time. <br /><br />And as webmistress of the Leaky Cauldron, one of the most popular Harry Potter sites on the Internet, Melissa Anelli had a front row seat to it all. Whether it was helping Scholastic stop leaks and track down counterfeiters, hosting live PotterCasts at bookstores across the country, touring with the wizard rock band Harry and the Potters, or traveling to Edinburgh to interview J. K. Rowling personally, Melissa was at the center of the Harry Potter tornado, and nothing about her life would ever be the same. <br /><br />The Harry Potter books are a triumph of the imagination that did far more than break sales records for all time. They restored the world's sense of wonder and took on a magical life of their own. Now the series has ended, but the story is not over. With remembrances from J. K. Rowling's editors, agents, publicists, fans, and Rowling herself, Melissa Anelli takes us on a personal journey through every aspect of the Harry Potter phenomenon-from his very first spell to his lasting impact on the way we live and dream.\"},\n",
       "  {'wrapperType': 'audiobook',\n",
       "   'artistId': 986148678,\n",
       "   'collectionId': 1513244959,\n",
       "   'artistName': 'Isaac Weishaupt',\n",
       "   'collectionName': 'Conspiracy Theories & Unpopular Culture: Illuminati and Occult Symbolism in Films, Television and Technology: Harry Potter, 5G, Flat Earth, Bitcoin and More (Unabridged)',\n",
       "   'collectionCensoredName': 'Conspiracy Theories & Unpopular Culture: Illuminati and Occult Symbolism in Films, Television and Technology: Harry Potter, 5G, Flat Earth, Bitcoin and More (Unabridged)',\n",
       "   'artistViewUrl': 'https://books.apple.com/us/author/isaac-weishaupt/id986148678?uo=4',\n",
       "   'collectionViewUrl': 'https://books.apple.com/us/audiobook/conspiracy-theories-unpopular-culture-illuminati-occult/id1513244959?uo=4',\n",
       "   'artworkUrl60': 'https://is5-ssl.mzstatic.com/image/thumb/Music123/v4/35/de/76/35de76ef-ccbf-c446-e2a4-29a18638a274/rm_image.jpg/60x60bb.jpg',\n",
       "   'artworkUrl100': 'https://is5-ssl.mzstatic.com/image/thumb/Music123/v4/35/de/76/35de76ef-ccbf-c446-e2a4-29a18638a274/rm_image.jpg/100x100bb.jpg',\n",
       "   'collectionPrice': 17.99,\n",
       "   'collectionExplicitness': 'notExplicit',\n",
       "   'trackCount': 1,\n",
       "   'copyright': '© 2020 Isaac Weishaupt',\n",
       "   'country': 'USA',\n",
       "   'currency': 'USD',\n",
       "   'releaseDate': '2020-05-13T07:00:00Z',\n",
       "   'primaryGenreName': 'Nonfiction',\n",
       "   'previewUrl': 'https://audio-ssl.itunes.apple.com/itunes-assets/AudioPreview123/v4/7e/06/40/7e06401b-470d-3256-0b40-78738d47dd30/mzaf_2672437741261614253.std.aac.p.m4a',\n",
       "   'description': 'Inspired by the most popular subjects on Isaac Weishaupt’s podcast, <i>Conspiracy Theories &amp; Unpopular Culture</i>, this book explores familiar topics that have an insidious truth hidden from the masses. Using occult doctrine cited from Freemasonry, Kabbalah, and Gnosticism; Isaac guides the listener through the symbolism of the concepts most frequently discussed by the conspiracy theory community.&#xa0;<br /><br />Consider the occult journey of man becoming god subtlety hidden in Harry Potter’s initiation tale. J. K. Rowling modeled Potter’s journey against the ancient mysteries in which spiritualized matter ascends back to the source of divinity to achieve apotheosis. The tale is loaded with influences from Aleister Crowley, Helena Blavatsky, alchemy, and occult duality. Find out the real meaning behind the Deathly Hallows symbol - which is steeped in occult influence.&#xa0;<br /><br />The concepts of an “Illuminati” bloodline are defined, with exploration into historical connections with aliens, demonic spirits, and control systems. Learn more about their occult religion of the unholy trinity: Osiris, Isis, and Horus. Bloodlines of demons, dragons, and Nephilim giants are explored to see if the lineage of Cain is working behind the scenes to control the masses.&#xa0;<br /><br />Learn what 5G is really about; first from a rational perspective, then the conspiracy theories about artificial intelligence, NSA surveillance, and even the Devil himself! Find out what kind of safety studies have been done to protect us from these man-made technologies (HINT: there are none!).&#xa0;<br /><br />Discover why man NEVER went to the moon! The moon mission was loaded with Freemason symbolism - the eagle landing was the alchemical wedding of the male phallus penetrating the female essence. The true purpose of the Space Race was to establish the moon as the Masonic Territorial Jurisdiction. We explore all of the theories for why people believe the earth is flat, including the Gnostics origins of this concept. Find out who Wilbur Voliva was and how Flat Earth personalities are trying to establish a new tribe.&#xa0;<br /><br />The basics of crypto currencies like bitcoin are explained; as well as the conspiracies regarding its origins. Find out who Satoshi Nakamoto is, NSA’s 1996 electronic cash and the idea of fiat currencies. We’ll look at theories of the Illuminati’s hand at creating bitcoin, from the NSA to A.I., and even the Devil. Netflix has a show reviving the <i>Chilling Adventures of Sabrina</i> that is full of symbolism pushing satanic concepts into the minds of children who view it.&#xa0;<br /><br />From the faustian bargain, to blood sacrifices, worship of the Dark Lord, satanic magick, the Baphomet, and Tubal Cain; it’s all being exposed in this writing. The Kardashian family seems to have six degrees of separation from all kinds of occult influence - but are they part of the Illuminati? Did they sign a pact with a witch in Armenia to achieve fame and fortune? We’ll look at Caitlyn, Kendall, Kylie, Kim K. and see if there is anything of occult nature to this family.&#xa0;<br /><br />Darren Aronofsky made several films of occult nature - most prominently <i>Mother! </i>which gave us a Gnostic tale of the oppressive Demiurge god taking advantage of the feminine Sophia wisdom to fuel his egotistical desires. Jim Carrey’s role as the “True Man” in <i>The Truman Show</i> pushed the concept of reality shows into the forefront of pop culture; but there is a darker side to this tale. The parallels to the story of Christ are evident in this tale, but the concept is an inversion of the Christian tale. It’s yet another Gnostic film to influence the masses into occult spirituality.'},\n",
       "  {'wrapperType': 'audiobook',\n",
       "   'artistId': 79595314,\n",
       "   'collectionId': 1442094810,\n",
       "   'artistName': 'J.K. Rowling',\n",
       "   'collectionName': 'Harry Potter og De Vises Sten',\n",
       "   'collectionCensoredName': 'Harry Potter og De Vises Sten',\n",
       "   'artistViewUrl': 'https://books.apple.com/us/author/j-k-rowling/id79595314?uo=4',\n",
       "   'collectionViewUrl': 'https://books.apple.com/us/audiobook/harry-potter-og-de-vises-sten/id1442094810?uo=4',\n",
       "   'artworkUrl60': 'https://is1-ssl.mzstatic.com/image/thumb/Music123/v4/8f/f9/e5/8ff9e5df-e5cb-c82a-ed75-2cdbe7453c89/9781781108109.jpg/60x60bb.jpg',\n",
       "   'artworkUrl100': 'https://is1-ssl.mzstatic.com/image/thumb/Music123/v4/8f/f9/e5/8ff9e5df-e5cb-c82a-ed75-2cdbe7453c89/9781781108109.jpg/100x100bb.jpg',\n",
       "   'collectionPrice': 12.99,\n",
       "   'collectionExplicitness': 'notExplicit',\n",
       "   'trackCount': 1,\n",
       "   'country': 'USA',\n",
       "   'currency': 'USD',\n",
       "   'releaseDate': '2017-02-10T08:00:00Z',\n",
       "   'primaryGenreName': 'Fiction',\n",
       "   'previewUrl': 'https://audio-ssl.itunes.apple.com/itunes-assets/AudioPreview113/v4/85/a5/2c/85a52cca-7415-fcbf-111b-1b5504af73a8/mzaf_11865546155395494864.std.aac.p.m4a',\n",
       "   'description': 'Da Harry er 11 år, får han at vide, at hans far var en berømt og respekteret troldmand, og hans mor en overordentlig dygtig heks. Harry er også selv troldmand og skal starte på Hogwarts skole for heksekunster og troldmandsskab. Han skal bl.a. medbringe tryllestav, troldmandshat og enten en kat, en ugle eller en tudse - og så starter et eventyrligt liv for Harry, der skal lære et hav af magiske tricks og desuden må tage kampen op mod den onde troldmand, der dræbte hans forældre.<br /><br /><i>Temamusik komponeret af James Hannigan</i>'},\n",
       "  {'wrapperType': 'audiobook',\n",
       "   'artistId': 79595314,\n",
       "   'collectionId': 1442146636,\n",
       "   'artistName': 'J.K. Rowling',\n",
       "   'collectionName': 'Harry Potter e la Camera dei Segreti',\n",
       "   'collectionCensoredName': 'Harry Potter e la Camera dei Segreti',\n",
       "   'artistViewUrl': 'https://books.apple.com/us/author/j-k-rowling/id79595314?uo=4',\n",
       "   'collectionViewUrl': 'https://books.apple.com/us/audiobook/harry-potter-e-la-camera-dei-segreti/id1442146636?uo=4',\n",
       "   'artworkUrl60': 'https://is5-ssl.mzstatic.com/image/thumb/Music123/v4/8e/44/a5/8e44a579-afc5-0513-067a-cae9697b975f/9781781108857.jpg/60x60bb.jpg',\n",
       "   'artworkUrl100': 'https://is5-ssl.mzstatic.com/image/thumb/Music123/v4/8e/44/a5/8e44a579-afc5-0513-067a-cae9697b975f/9781781108857.jpg/100x100bb.jpg',\n",
       "   'collectionPrice': 12.99,\n",
       "   'collectionExplicitness': 'notExplicit',\n",
       "   'trackCount': 1,\n",
       "   'country': 'USA',\n",
       "   'currency': 'USD',\n",
       "   'releaseDate': '2017-10-31T07:00:00Z',\n",
       "   'primaryGenreName': 'Fiction',\n",
       "   'previewUrl': 'https://audio-ssl.itunes.apple.com/itunes-assets/AudioPreview113/v4/f4/ff/e5/f4ffe58e-4a60-9098-71c6-b9b7d6ef8e3e/mzaf_807212274686347507.std.aac.p.m4a',\n",
       "   'description': \"A Hogwarts il nuovo anno scolastico s'inaugura all'insegna di fatti inquietanti: strane voci riecheggiano nei corridoi e Ginny sparisce nel nulla. Un antico mistero si nasconde nelle profondità del castello e incombe ora sulla scuola, toccherà a Harry, Ron e Hermione risolvere l'enigma che si cela nella tenebrosa Camera dei Segreti...<br /><br /><i>Tema musicale composto da James Hannigan</i>\"},\n",
       "  {'wrapperType': 'audiobook',\n",
       "   'artistId': 1445967329,\n",
       "   'collectionId': 1449908281,\n",
       "   'artistName': 'Lilly Winchester',\n",
       "   'collectionName': '155 Harry Potter Facts: The Ultimate Trivia Book for Wizards and Witches (Unabridged)',\n",
       "   'collectionCensoredName': '155 Harry Potter Facts: The Ultimate Trivia Book for Wizards and Witches (Unabridged)',\n",
       "   'artistViewUrl': 'https://books.apple.com/us/author/lilly-winchester/id1445967329?uo=4',\n",
       "   'collectionViewUrl': 'https://books.apple.com/us/audiobook/155-harry-potter-facts-ultimate-trivia-book-for-wizards/id1449908281?uo=4',\n",
       "   'artworkUrl60': 'https://is3-ssl.mzstatic.com/image/thumb/Music114/v4/5e/e1/02/5ee10269-83c4-bc0e-7b96-32995872ec7a/rm_image.jpg/60x60bb.jpg',\n",
       "   'artworkUrl100': 'https://is3-ssl.mzstatic.com/image/thumb/Music114/v4/5e/e1/02/5ee10269-83c4-bc0e-7b96-32995872ec7a/rm_image.jpg/100x100bb.jpg',\n",
       "   'collectionPrice': 3.99,\n",
       "   'collectionExplicitness': 'notExplicit',\n",
       "   'trackCount': 1,\n",
       "   'copyright': '© 2019 Lilly Winchester',\n",
       "   'country': 'USA',\n",
       "   'currency': 'USD',\n",
       "   'releaseDate': '2019-01-17T08:00:00Z',\n",
       "   'primaryGenreName': 'Kids & Young Adults',\n",
       "   'previewUrl': 'https://audio-ssl.itunes.apple.com/itunes-assets/AudioPreview123/v4/11/b1/f5/11b1f596-3cf2-763b-913c-79a3850d2c6f/mzaf_9196034046600512374.std.aac.p.m4a',\n",
       "   'description': 'Dolores Umbridge, The Master of Pink?<br /><br />Tonk’s hair is supposed to be pink according to the books, but it was made purple since pink was so heavily associated with Umbridge. Who knew pink could be so evil?<br /><br />One-hundred-and-fifty-five mind blowing Harry Potter facts! A must-have for any Harry Potter fan. Buy this audiobook now and impress everyone with your secret knowledge today!'},\n",
       "  {'wrapperType': 'audiobook',\n",
       "   'artistId': 79595314,\n",
       "   'collectionId': 1442756360,\n",
       "   'artistName': 'J.K. Rowling',\n",
       "   'collectionName': 'Harry Potter und der Orden des Phönix',\n",
       "   'collectionCensoredName': 'Harry Potter und der Orden des Phönix',\n",
       "   'artistViewUrl': 'https://books.apple.com/us/author/j-k-rowling/id79595314?uo=4',\n",
       "   'collectionViewUrl': 'https://books.apple.com/us/audiobook/harry-potter-und-der-orden-des-ph%C3%B6nix/id1442756360?uo=4',\n",
       "   'artworkUrl60': 'https://is2-ssl.mzstatic.com/image/thumb/Music113/v4/73/71/f9/7371f99d-c33c-ceb1-e781-28f21e194ffe/9781781102947.jpg/60x60bb.jpg',\n",
       "   'artworkUrl100': 'https://is2-ssl.mzstatic.com/image/thumb/Music113/v4/73/71/f9/7371f99d-c33c-ceb1-e781-28f21e194ffe/9781781102947.jpg/100x100bb.jpg',\n",
       "   'collectionPrice': 39.99,\n",
       "   'collectionExplicitness': 'notExplicit',\n",
       "   'trackCount': 1,\n",
       "   'country': 'USA',\n",
       "   'currency': 'USD',\n",
       "   'releaseDate': '2015-11-20T08:00:00Z',\n",
       "   'primaryGenreName': 'Fiction',\n",
       "   'previewUrl': 'https://audio-ssl.itunes.apple.com/itunes-assets/AudioPreview123/v4/71/40/77/7140770b-246e-1ffd-6505-d45e259d1b3f/mzaf_5985424088259439462.std.aac.p.m4a',\n",
       "   'description': 'Es sind Sommerferien und wieder einmal sitzt Harry bei den unmöglichen Dursleys im Ligusterweg fest. Doch diesmal treibt ihn größere Unruhe denn je - Warum schreiben seine Freunde Ron und Hermine nur so rätselhafte Briefe? Und vor allem: Warum erfährt er nichts über die dunklen Mächte, die inzwischen neu erstanden sind und sich unaufhaltsam über Harrys Welt verbreiten? Noch ahnt er nicht, was der geheimnisvolle Orden des Phönix gegen Voldemort ausrichten kann ... Als Harrys fünftes Schuljahr in Hogwarts beginnt, werden seine Sorgen nur noch größer. Und dann schlägt der Dunkle Lord wieder zu. Harry muss seine Freunde um sich scharen, sonst gibt es kein Entrinnen.<br /><br /><i>Titelmusik komponiert von James Hannigan</i>'},\n",
       "  {'wrapperType': 'audiobook',\n",
       "   'artistId': 1445967329,\n",
       "   'collectionId': 1445967328,\n",
       "   'artistName': 'Lilly Winchester',\n",
       "   'collectionName': '180 Harry Potter Spells: The Ultimate Spellbook of Charms, Curses, Hexes, and Jinxes for Wizards and Witches (Unabridged)',\n",
       "   'collectionCensoredName': '180 Harry Potter Spells: The Ultimate Spellbook of Charms, Curses, Hexes, and Jinxes for Wizards and Witches (Unabridged)',\n",
       "   'artistViewUrl': 'https://books.apple.com/us/author/lilly-winchester/id1445967329?uo=4',\n",
       "   'collectionViewUrl': 'https://books.apple.com/us/audiobook/180-harry-potter-spells-ultimate-spellbook-charms-curses/id1445967328?uo=4',\n",
       "   'artworkUrl60': 'https://is4-ssl.mzstatic.com/image/thumb/Music118/v4/74/0a/08/740a08ed-c6bc-59d7-9195-8d0ceeaa0f11/rm_image.jpg/60x60bb.jpg',\n",
       "   'artworkUrl100': 'https://is4-ssl.mzstatic.com/image/thumb/Music118/v4/74/0a/08/740a08ed-c6bc-59d7-9195-8d0ceeaa0f11/rm_image.jpg/100x100bb.jpg',\n",
       "   'collectionPrice': 5.99,\n",
       "   'collectionExplicitness': 'notExplicit',\n",
       "   'trackCount': 1,\n",
       "   'copyright': '© 2018 Lilly Winchester',\n",
       "   'country': 'USA',\n",
       "   'currency': 'USD',\n",
       "   'releaseDate': '2018-12-06T08:00:00Z',\n",
       "   'primaryGenreName': 'Kids & Young Adults',\n",
       "   'previewUrl': 'https://audio-ssl.itunes.apple.com/itunes-assets/AudioPreview123/v4/a8/d5/aa/a8d5aa13-ef91-ebc4-fde2-3c8212035fc7/mzaf_5877127877157139526.std.aac.p.m4a',\n",
       "   'description': 'Discover 180 spells from the wizarding world of Harry Potter, and learn how to become a Master Wizard or Witch today!'},\n",
       "  {'wrapperType': 'audiobook',\n",
       "   'artistId': 79595314,\n",
       "   'collectionId': 1442759656,\n",
       "   'artistName': 'J.K. Rowling',\n",
       "   'collectionName': 'Harry Potter und der Gefangene von Askaban',\n",
       "   'collectionCensoredName': 'Harry Potter und der Gefangene von Askaban',\n",
       "   'artistViewUrl': 'https://books.apple.com/us/author/j-k-rowling/id79595314?uo=4',\n",
       "   'collectionViewUrl': 'https://books.apple.com/us/audiobook/harry-potter-und-der-gefangene-von-askaban/id1442759656?uo=4',\n",
       "   'artworkUrl60': 'https://is5-ssl.mzstatic.com/image/thumb/Music113/v4/8b/e7/8a/8be78a3b-df6b-32fb-484a-c7fbeb48f1dd/9781781102923.jpg/60x60bb.jpg',\n",
       "   'artworkUrl100': 'https://is5-ssl.mzstatic.com/image/thumb/Music113/v4/8b/e7/8a/8be78a3b-df6b-32fb-484a-c7fbeb48f1dd/9781781102923.jpg/100x100bb.jpg',\n",
       "   'collectionPrice': 12.99,\n",
       "   'collectionExplicitness': 'notExplicit',\n",
       "   'trackCount': 1,\n",
       "   'country': 'USA',\n",
       "   'currency': 'USD',\n",
       "   'releaseDate': '2015-11-20T08:00:00Z',\n",
       "   'primaryGenreName': 'Fiction',\n",
       "   'previewUrl': 'https://audio-ssl.itunes.apple.com/itunes-assets/AudioPreview113/v4/b0/85/37/b08537fd-b4cb-bec5-a3f9-9d6d56780126/mzaf_11726304647617603007.std.aac.p.m4a',\n",
       "   'description': 'Natürlich weiß Harry, dass das Zaubern in den Ferien strengstens verboten ist, und trotzdem befördert er seine schreckliche Tante mit einem Schwebezauber an die Decke. Die Konsequenz ist normalerweise: Schulverweis! Nicht so bei Harry; im Gegenteil, man behandelt ihn wie in rohes Ei. Hat es etwa damit zu tun, dass ein gefürchteter Verbrecher in die Schule eingedrungen ist und es auf Harry abgesehen hat? Mit seinen Freunden Ron und Hermine versucht Harry ein Geflecht aus Verrat, Rache, Feigheit und Verleumdung aufzudröseln und stößt dabei auf Dinge, die ihn fast an seinem Verstand zweifeln lassen.<br /><br /><i>Titelmusik komponiert von James Hannigan</i>'}]}"
      ]
     },
     "execution_count": 14,
     "metadata": {},
     "output_type": "execute_result"
    }
   ],
   "source": [
    "req"
   ]
  },
  {
   "cell_type": "code",
   "execution_count": 12,
   "metadata": {
    "ExecuteTime": {
     "end_time": "2020-09-01T16:57:45.697244Z",
     "start_time": "2020-09-01T16:57:45.693321Z"
    }
   },
   "outputs": [
    {
     "data": {
      "text/plain": [
       "0.1"
      ]
     },
     "execution_count": 12,
     "metadata": {},
     "output_type": "execute_result"
    }
   ],
   "source": [
    "200/2000"
   ]
  },
  {
   "cell_type": "markdown",
   "metadata": {
    "heading_collapsed": true
   },
   "source": [
    "### Level Up\n",
    "\n",
    "Using the data from the Harry Potter Audio Books request, collect the artistId for each entry and use those IDs to make a single ```https://itunes.apple.com/lookup?id={}&entity=audiobooks&sort=recent``` request. \n",
    "\n",
    "To do this:\n",
    "- Every id should be added to a string\n",
    "- Each id should be followed by a comma. ie ```id1,id2,id3,id4```\n",
    "    - The final id should not be followed by a comma\n",
    "- No id should be added to the string more than once."
   ]
  },
  {
   "cell_type": "code",
   "execution_count": null,
   "metadata": {
    "hidden": true
   },
   "outputs": [],
   "source": [
    "# Your code here\n",
    "REQUEST = \n",
    "req = requests.get(REQUEST).json()"
   ]
  },
  {
   "cell_type": "code",
   "execution_count": 142,
   "metadata": {
    "ExecuteTime": {
     "end_time": "2020-05-21T19:37:19.505344Z",
     "start_time": "2020-05-21T19:37:19.171206Z"
    },
    "hidden": true
   },
   "outputs": [
    {
     "name": "stdout",
     "output_type": "stream",
     "text": [
      "Number of results: 123\n"
     ]
    }
   ],
   "source": [
    "# Run this cell!\n",
    "REQUEST = 'https://itunes.apple.com/lookup?id={}&entity=audiobook&sort=recent'.format(ARTIST_IDS)\n",
    "req = requests.get(REQUEST).json()\n",
    "\n",
    "number_of_results = req['resultCount']\n",
    "print('Number of results:', number_of_results)"
   ]
  }
 ],
 "metadata": {
  "hide_input": false,
  "kernelspec": {
   "display_name": "Python 3",
   "language": "python",
   "name": "python3"
  },
  "language_info": {
   "codemirror_mode": {
    "name": "ipython",
    "version": 3
   },
   "file_extension": ".py",
   "mimetype": "text/x-python",
   "name": "python",
   "nbconvert_exporter": "python",
   "pygments_lexer": "ipython3",
   "version": "3.7.7"
  },
  "toc": {
   "base_numbering": 1,
   "nav_menu": {},
   "number_sections": false,
   "sideBar": true,
   "skip_h1_title": true,
   "title_cell": "Table of Contents",
   "title_sidebar": "Contents",
   "toc_cell": false,
   "toc_position": {},
   "toc_section_display": true,
   "toc_window_display": false
  },
  "varInspector": {
   "cols": {
    "lenName": 16,
    "lenType": 16,
    "lenVar": 40
   },
   "kernels_config": {
    "python": {
     "delete_cmd_postfix": "",
     "delete_cmd_prefix": "del ",
     "library": "var_list.py",
     "varRefreshCmd": "print(var_dic_list())"
    },
    "r": {
     "delete_cmd_postfix": ") ",
     "delete_cmd_prefix": "rm(",
     "library": "var_list.r",
     "varRefreshCmd": "cat(var_dic_list()) "
    }
   },
   "types_to_exclude": [
    "module",
    "function",
    "builtin_function_or_method",
    "instance",
    "_Feature"
   ],
   "window_display": false
  }
 },
 "nbformat": 4,
 "nbformat_minor": 4
}
